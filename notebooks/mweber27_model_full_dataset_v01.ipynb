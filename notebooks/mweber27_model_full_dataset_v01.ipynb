{
 "cells": [
  {
   "cell_type": "markdown",
   "id": "1a615fcc",
   "metadata": {},
   "source": [
    "## 0. Imports"
   ]
  },
  {
   "cell_type": "code",
   "execution_count": 2,
   "id": "048e82b7",
   "metadata": {},
   "outputs": [],
   "source": [
    "# Standard library imports\n",
    "import pandas as pd\n",
    "import numpy as np\n",
    "import os\n",
    "from pathlib import Path\n",
    "from concurrent.futures import ThreadPoolExecutor\n",
    "import cv2\n",
    "import sys\n",
    "import matplotlib.pyplot as plt\n",
    "\n",
    "# ML imports\n",
    "import tensorflow as tf\n",
    "from tensorflow.keras.models import Model\n",
    "from tensorflow.keras.layers import Dense, GlobalAveragePooling2D, Dropout, Input\n",
    "from tensorflow.keras.applications import EfficientNetB0\n",
    "from tensorflow.keras.optimizers import Adam\n",
    "from tensorflow.keras.callbacks import ModelCheckpoint, ReduceLROnPlateau, EarlyStopping\n",
    "from tensorflow.keras.preprocessing.image import ImageDataGenerator\n",
    "from sklearn.metrics import classification_report, confusion_matrix, ConfusionMatrixDisplay\n",
    "\n",
    "# Custom imports\n",
    "# Add the parent directory to sys.path\n",
    "parent_dir = os.path.abspath(os.path.join(os.getcwd(), '..'))\n",
    "if parent_dir not in sys.path:\n",
    "    sys.path.append(parent_dir)\n",
    "from classification.ml_logic.preprocessor import Preprocessor"
   ]
  },
  {
   "cell_type": "markdown",
   "id": "a7df5e9f",
   "metadata": {},
   "source": [
    "## 1. Data loading"
   ]
  },
  {
   "cell_type": "markdown",
   "id": "066937c9",
   "metadata": {},
   "source": [
    "### 1.1 Dataframe loading"
   ]
  },
  {
   "cell_type": "code",
   "execution_count": 2,
   "id": "c453cb03",
   "metadata": {},
   "outputs": [
    {
     "name": "stdout",
     "output_type": "stream",
     "text": [
      "Breast Cancer Detection data loaded successfully. 3383 records found.\n",
      "Mini-DDSM data loaded successfully. 7808 records found.\n",
      "Final dataset size after removing missing labels: 7808 records.\n",
      "Total images: 7808\n",
      "Total unique patients: 1692\n",
      "Original class distribution:\n",
      "Status\n",
      "Cancer    2716\n",
      "Benign    2684\n",
      "Normal    2408\n",
      "Name: count, dtype: int64\n",
      "\n",
      "Binary class distribution:\n",
      "Non-Cancer (Benign + Normal): 5092\n",
      "Cancer: 2716\n"
     ]
    }
   ],
   "source": [
    "bcd_root_dir = Path('../raw_data/breast-cancer-detection')\n",
    "mini_ddsm_root_dir = Path('../raw_data/MINI-DDSM-Complete-JPEG-8')\n",
    "\n",
    "# Import breast-cancer-detection dataset\n",
    "data = []\n",
    "\n",
    "for split in ['train', 'valid', 'test']:\n",
    "    split_dir = bcd_root_dir / split\n",
    "    for label in ['0', '1']:\n",
    "        label_dir = split_dir / label\n",
    "        for img_path in label_dir.glob('*.jpg'):\n",
    "            data.append({\n",
    "                'image_name': img_path.name,\n",
    "                'image_path': str(img_path),\n",
    "                'label': int(label),\n",
    "                'split': split\n",
    "            })\n",
    "\n",
    "bcd_df = pd.DataFrame(data)\n",
    "print(f'Breast Cancer Detection data loaded successfully. {len(bcd_df)} records found.')\n",
    "\n",
    "bcd_train_df = bcd_df[bcd_df['split'] == 'train']\n",
    "bcd_val_df = bcd_df[bcd_df['split'] == 'valid']\n",
    "bdc_test_df = bcd_df[bcd_df['split'] == 'test']\n",
    "\n",
    "# Import MINI-DDSM dataset\n",
    "\n",
    "# Load Excel file\n",
    "mini_ddsm_df = pd.read_excel(os.path.join(mini_ddsm_root_dir, 'DataWMask.xlsx'))\n",
    "print(f'Mini-DDSM data loaded successfully. {len(mini_ddsm_df)} records found.')\n",
    "# print(mini_ddsm_df.head())\n",
    "\n",
    "# Replace backslashes with forward slashes in fullPath\n",
    "mini_ddsm_df['fullPath'] = mini_ddsm_df['fullPath'].str.replace('\\\\', '/', regex=False)\n",
    "# Ensure fullPath is a string\n",
    "mini_ddsm_df['fullPath'] = mini_ddsm_df['fullPath'].astype(str)\n",
    "\n",
    "# Extract patiend ID from fileName (format: C_{patient_id}_1_LATERALITY_VIEW.jpg)\n",
    "mini_ddsm_df['fileName'] = mini_ddsm_df['fileName'].astype(str).str.strip()\n",
    "mini_ddsm_df['patient_id'] = mini_ddsm_df['fileName'].str.extract(r'\\w_(\\d+)_1')\n",
    "\n",
    "# Binary mapping: Cancer = 1, Benign and Normal = 0\n",
    "def create_binary_labels(status):\n",
    "    if status == 'Cancer':\n",
    "        return 1\n",
    "    else: # Benign or Normal\n",
    "        return 0\n",
    "\n",
    "mini_ddsm_df['binary_label'] = mini_ddsm_df['Status'].apply(create_binary_labels)\n",
    "\n",
    "# Remove any rows with missing labels\n",
    "mini_ddsm_df = mini_ddsm_df.dropna(subset=['binary_label', 'patient_id'])\n",
    "print(f'Final dataset size after removing missing labels: {len(mini_ddsm_df)} records.')\n",
    "\n",
    "print(f\"Total images: {len(mini_ddsm_df)}\")\n",
    "print(f\"Total unique patients: {mini_ddsm_df['patient_id'].nunique()}\")\n",
    "print(f\"Original class distribution:\\n{mini_ddsm_df['Status'].value_counts()}\")\n",
    "print(f\"\\nBinary class distribution:\")\n",
    "print(f\"Non-Cancer (Benign + Normal): {len(mini_ddsm_df[mini_ddsm_df['binary_label'] == 0])}\")\n",
    "print(f\"Cancer: {len(mini_ddsm_df[mini_ddsm_df['binary_label'] == 1])}\")"
   ]
  },
  {
   "cell_type": "code",
   "execution_count": 3,
   "id": "f1730003",
   "metadata": {},
   "outputs": [
    {
     "name": "stdout",
     "output_type": "stream",
     "text": [
      "\n",
      "Patient distribution:\n",
      "Train patients: 1184\n",
      "Validation patients: 253\n",
      "Test patients: 255\n",
      "\n",
      "Image distribution:\n",
      "Train images: 5480 (Cancer: 1880, Non-Cancer: 3600)\n",
      "Val images: 1144 (Cancer: 412, Non-Cancer: 732)\n",
      "Test images: 1184 (Cancer: 424, Non-Cancer: 760)\n",
      "✓ No patient leakage detected!\n"
     ]
    }
   ],
   "source": [
    "def patient_based_split(df, train_ratio=0.7, val_ratio=0.15, test_ratio=0.15, random_state=42):\n",
    "    \"\"\"\n",
    "    Split data by patient ID to avoid data leakage.\n",
    "    Args:\n",
    "        df (pd.DataFrame): DataFrame containing image data with 'patient_id' and 'Status'.\n",
    "        train_ratio (float): Proportion of data to use for training.\n",
    "        val_ratio (float): Proportion of data to use for validation.\n",
    "        test_ratio (float): Proportion of data to use for testing.\n",
    "        random_state (int): Random seed for reproducibility.\n",
    "    Returns:\n",
    "        tuple: DataFrames for train, validation, and test sets.\n",
    "    \"\"\"\n",
    "    # Get unique patients with their status\n",
    "    patient_info = df.groupby('patient_id')['Status'].first().reset_index()\n",
    "    patient_info['binary_label'] = patient_info['Status'].apply(create_binary_labels)\n",
    "\n",
    "    unique_patients = patient_info['patient_id'].unique()\n",
    "\n",
    "    # Shuffle patients\n",
    "    np.random.seed(random_state)\n",
    "    np.random.shuffle(unique_patients)\n",
    "\n",
    "    # Calculate split sizes\n",
    "    total_patients = len(unique_patients)\n",
    "    train_size = int(train_ratio * total_patients)\n",
    "    val_size = int(val_ratio * total_patients)\n",
    "\n",
    "    # Split patient IDs\n",
    "    train_patients = unique_patients[:train_size]\n",
    "    val_patients = unique_patients[train_size:train_size+val_size]\n",
    "    test_patients = unique_patients[train_size+val_size:]\n",
    "\n",
    "    print(f\"\\nPatient distribution:\")\n",
    "    print(f\"Train patients: {len(train_patients)}\")\n",
    "    print(f\"Validation patients: {len(val_patients)}\")\n",
    "    print(f\"Test patients: {len(test_patients)}\")\n",
    "\n",
    "    # Assign split labels to all images based on patient ID\n",
    "    def assign_split(patient_id):\n",
    "        if patient_id in train_patients:\n",
    "            return 'train'\n",
    "        elif patient_id in val_patients:\n",
    "            return 'val'\n",
    "        else:\n",
    "            return 'test'\n",
    "\n",
    "    df['split'] = df['patient_id'].apply(assign_split)\n",
    "\n",
    "    # Create separate dataframes\n",
    "    train_df = df[df['split'] == 'train'].copy()\n",
    "    val_df = df[df['split'] == 'val'].copy()\n",
    "    test_df = df[df['split'] == 'test'].copy()\n",
    "\n",
    "    # Print detailed statistics\n",
    "    print(f\"\\nImage distribution:\")\n",
    "    print(f\"Train images: {len(train_df)} (Cancer: {sum(train_df['binary_label'])}, Non-Cancer: {len(train_df) - sum(train_df['binary_label'])})\")\n",
    "    print(f\"Val images: {len(val_df)} (Cancer: {sum(val_df['binary_label'])}, Non-Cancer: {len(val_df) - sum(val_df['binary_label'])})\")\n",
    "    print(f\"Test images: {len(test_df)} (Cancer: {sum(test_df['binary_label'])}, Non-Cancer: {len(test_df) - sum(test_df['binary_label'])})\")\n",
    "\n",
    "    # Verify no patient leakage\n",
    "    train_patients_set = set(train_df['patient_id'].unique())\n",
    "    val_patients_set = set(val_df['patient_id'].unique())\n",
    "    test_patients_set = set(test_df['patient_id'].unique())\n",
    "\n",
    "    assert len(train_patients_set.intersection(val_patients_set)) == 0, \"Patient leakage between train and val!\"\n",
    "    assert len(train_patients_set.intersection(test_patients_set)) == 0, \"Patient leakage between train and test!\"\n",
    "    assert len(val_patients_set.intersection(test_patients_set)) == 0, \"Patient leakage between val and test!\"\n",
    "\n",
    "    print(\"✓ No patient leakage detected!\")\n",
    "\n",
    "    return train_df, val_df, test_df\n",
    "\n",
    "# Execute the split\n",
    "mini_ddsm_train_df, mini_ddsm_val_df, mini_ddsm_test_df = patient_based_split(mini_ddsm_df)"
   ]
  },
  {
   "cell_type": "code",
   "execution_count": 4,
   "id": "d79b3f73",
   "metadata": {},
   "outputs": [],
   "source": [
    "# Create image paths for MINI-DDSM dataset\n",
    "mini_ddsm_train_df['image_path'] = mini_ddsm_train_df['fullPath'].apply(lambda x: str(mini_ddsm_root_dir / x))\n",
    "mini_ddsm_val_df['image_path'] = mini_ddsm_val_df['fullPath'].apply(lambda x: str(mini_ddsm_root_dir / x))\n",
    "mini_ddsm_test_df['image_path'] = mini_ddsm_test_df['fullPath'].apply(lambda x: str(mini_ddsm_root_dir / x))\n",
    "\n",
    "# Remove unnecessary columns\n",
    "mini_ddsm_train_df = mini_ddsm_train_df[['fileName', 'image_path', 'binary_label', 'split']]\n",
    "mini_ddsm_val_df = mini_ddsm_val_df[['fileName', 'image_path', 'binary_label', 'split']]\n",
    "mini_ddsm_test_df = mini_ddsm_test_df[['fileName', 'image_path', 'binary_label', 'split']]\n",
    "\n",
    "## Rename columns for consistency\n",
    "# fileName to image_name\n",
    "mini_ddsm_train_df.rename(columns={'fileName': 'image_name'}, inplace=True)\n",
    "mini_ddsm_val_df.rename(columns={'fileName': 'image_name'}, inplace=True)\n",
    "mini_ddsm_test_df.rename(columns={'fileName': 'image_name'}, inplace=True)\n",
    "# binary_label to label\n",
    "mini_ddsm_train_df.rename(columns={'binary_label': 'label'}, inplace=True)\n",
    "mini_ddsm_val_df.rename(columns={'binary_label': 'label'}, inplace=True)\n",
    "mini_ddsm_test_df.rename(columns={'binary_label': 'label'}, inplace=True)"
   ]
  },
  {
   "cell_type": "markdown",
   "id": "6e499754",
   "metadata": {},
   "source": [
    "#### 1.1.1 Downsampling individual datasets"
   ]
  },
  {
   "cell_type": "code",
   "execution_count": 5,
   "id": "7c0419a5",
   "metadata": {},
   "outputs": [
    {
     "name": "stdout",
     "output_type": "stream",
     "text": [
      "Original distribution:\n",
      "label\n",
      "0    1569\n",
      "1     803\n",
      "Name: count, dtype: int64\n",
      "\n",
      "Balanced distribution:\n",
      "label\n",
      "0    803\n",
      "1    803\n",
      "Name: count, dtype: int64\n"
     ]
    }
   ],
   "source": [
    "# breast-cancer-detection dataset downsampling\n",
    "# Separate majority and minority classes\n",
    "bcd_train_majority_class = bcd_train_df[bcd_train_df['label'] == 0]\n",
    "bcd_train_minority_class = bcd_train_df[bcd_train_df['label'] == 1]\n",
    "\n",
    "# Downsample majority class to match minority class size\n",
    "bcd_train_majority_downsampled = bcd_train_majority_class.sample(n=len(bcd_train_minority_class), random_state=42)\n",
    "\n",
    "# Combine minority class with downsampled majority class\n",
    "bcd_train_balanced = pd.concat([bcd_train_majority_downsampled, bcd_train_minority_class])\n",
    "\n",
    "# Shuffle the dataset\n",
    "bcd_train_balanced = bcd_train_balanced.sample(frac=1, random_state=42).reset_index(drop=True)\n",
    "\n",
    "print(\"Original distribution:\")\n",
    "print(bcd_train_df['label'].value_counts())\n",
    "print(\"\\nBalanced distribution:\")\n",
    "print(bcd_train_balanced['label'].value_counts())"
   ]
  },
  {
   "cell_type": "code",
   "execution_count": 6,
   "id": "7755a3ea",
   "metadata": {},
   "outputs": [
    {
     "name": "stdout",
     "output_type": "stream",
     "text": [
      "Original distribution:\n",
      "label\n",
      "0    3600\n",
      "1    1880\n",
      "Name: count, dtype: int64\n",
      "\n",
      "Balanced distribution:\n",
      "label\n",
      "0    1880\n",
      "1    1880\n",
      "Name: count, dtype: int64\n"
     ]
    }
   ],
   "source": [
    "# mini-ddsm dataset downsampling\n",
    "# Separate majority and minority classes\n",
    "mini_ddsm_train_majority_class = mini_ddsm_train_df[mini_ddsm_train_df['label'] == 0]\n",
    "mini_ddsm_train_minority_class = mini_ddsm_train_df[mini_ddsm_train_df['label'] == 1]\n",
    "\n",
    "# Downsample majority class to match minority class size\n",
    "mini_ddsm_train_majority_downsampled = mini_ddsm_train_majority_class.sample(n=len(mini_ddsm_train_minority_class), random_state=42)\n",
    "\n",
    "# Combine minority class with downsampled majority class\n",
    "mini_ddsm_train_balanced = pd.concat([mini_ddsm_train_majority_downsampled, mini_ddsm_train_minority_class])\n",
    "\n",
    "# Shuffle the dataset\n",
    "mini_ddsm_train_balanced = mini_ddsm_train_balanced.sample(frac=1, random_state=42).reset_index(drop=True)\n",
    "\n",
    "print(\"Original distribution:\")\n",
    "print(mini_ddsm_train_df['label'].value_counts())\n",
    "print(\"\\nBalanced distribution:\")\n",
    "print(mini_ddsm_train_balanced['label'].value_counts())"
   ]
  },
  {
   "cell_type": "markdown",
   "id": "38e95dcb",
   "metadata": {},
   "source": [
    "#### 1.1.1 Changing and combining dataframes"
   ]
  },
  {
   "cell_type": "code",
   "execution_count": 7,
   "id": "00fc7b7d",
   "metadata": {},
   "outputs": [
    {
     "name": "stdout",
     "output_type": "stream",
     "text": [
      "\n",
      "Combined dataset sizes:\n",
      "Train set: 5366\n",
      "Validation set: 1819\n",
      "Test set: 1520\n",
      "\n",
      "Combined class distribution in train set:\n",
      "label\n",
      "0    2683\n",
      "1    2683\n",
      "Name: count, dtype: int64\n",
      "\n",
      "Combined class distribution in validation set:\n",
      "label\n",
      "0    1180\n",
      "1     639\n",
      "Name: count, dtype: int64\n",
      "\n",
      "Combined class distribution in test set:\n",
      "label\n",
      "0    968\n",
      "1    552\n",
      "Name: count, dtype: int64\n"
     ]
    }
   ],
   "source": [
    "# Combine datasets\n",
    "combined_train_df = pd.concat([bcd_train_balanced, mini_ddsm_train_balanced], ignore_index=True)\n",
    "combined_val_df = pd.concat([bcd_val_df, mini_ddsm_val_df], ignore_index=True)\n",
    "combined_test_df = pd.concat([bdc_test_df, mini_ddsm_test_df], ignore_index=True)\n",
    "\n",
    "print(f\"\\nCombined dataset sizes:\")\n",
    "print(f\"Train set: {len(combined_train_df)}\")\n",
    "print(f\"Validation set: {len(combined_val_df)}\")\n",
    "print(f\"Test set: {len(combined_test_df)}\")\n",
    "print(f'\\nCombined class distribution in train set:')\n",
    "print(combined_train_df['label'].value_counts())\n",
    "print(f'\\nCombined class distribution in validation set:')\n",
    "print(combined_val_df['label'].value_counts())\n",
    "print(f'\\nCombined class distribution in test set:')\n",
    "print(combined_test_df['label'].value_counts())"
   ]
  },
  {
   "cell_type": "markdown",
   "id": "86dfc66d",
   "metadata": {},
   "source": [
    "### 1.2 Image loading and preprocessing function"
   ]
  },
  {
   "cell_type": "code",
   "execution_count": 8,
   "id": "f8c2c854",
   "metadata": {},
   "outputs": [
    {
     "data": {
      "text/html": [
       "<div>\n",
       "<style scoped>\n",
       "    .dataframe tbody tr th:only-of-type {\n",
       "        vertical-align: middle;\n",
       "    }\n",
       "\n",
       "    .dataframe tbody tr th {\n",
       "        vertical-align: top;\n",
       "    }\n",
       "\n",
       "    .dataframe thead th {\n",
       "        text-align: right;\n",
       "    }\n",
       "</style>\n",
       "<table border=\"1\" class=\"dataframe\">\n",
       "  <thead>\n",
       "    <tr style=\"text-align: right;\">\n",
       "      <th></th>\n",
       "      <th>image_name</th>\n",
       "      <th>image_path</th>\n",
       "      <th>label</th>\n",
       "      <th>split</th>\n",
       "    </tr>\n",
       "  </thead>\n",
       "  <tbody>\n",
       "    <tr>\n",
       "      <th>0</th>\n",
       "      <td>1660_312382431_png.rf.60f10fd25f27eba500354c40...</td>\n",
       "      <td>../raw_data/breast-cancer-detection/train/0/16...</td>\n",
       "      <td>0</td>\n",
       "      <td>train</td>\n",
       "    </tr>\n",
       "    <tr>\n",
       "      <th>1</th>\n",
       "      <td>37032_1243050806_png.rf.733846bab2dde1d3137703...</td>\n",
       "      <td>../raw_data/breast-cancer-detection/train/1/37...</td>\n",
       "      <td>1</td>\n",
       "      <td>train</td>\n",
       "    </tr>\n",
       "    <tr>\n",
       "      <th>2</th>\n",
       "      <td>2472_1387239105_png.rf.d2ad3d9ff1876a30491933e...</td>\n",
       "      <td>../raw_data/breast-cancer-detection/train/0/24...</td>\n",
       "      <td>0</td>\n",
       "      <td>train</td>\n",
       "    </tr>\n",
       "    <tr>\n",
       "      <th>3</th>\n",
       "      <td>259_391410545_png.rf.f42b7e4e7c60e8113d12ff5c8...</td>\n",
       "      <td>../raw_data/breast-cancer-detection/train/0/25...</td>\n",
       "      <td>0</td>\n",
       "      <td>train</td>\n",
       "    </tr>\n",
       "    <tr>\n",
       "      <th>4</th>\n",
       "      <td>2066_1080373862_png.rf.a63e0a6f7806827934bda38...</td>\n",
       "      <td>../raw_data/breast-cancer-detection/train/0/20...</td>\n",
       "      <td>0</td>\n",
       "      <td>train</td>\n",
       "    </tr>\n",
       "  </tbody>\n",
       "</table>\n",
       "</div>"
      ],
      "text/plain": [
       "                                          image_name  \\\n",
       "0  1660_312382431_png.rf.60f10fd25f27eba500354c40...   \n",
       "1  37032_1243050806_png.rf.733846bab2dde1d3137703...   \n",
       "2  2472_1387239105_png.rf.d2ad3d9ff1876a30491933e...   \n",
       "3  259_391410545_png.rf.f42b7e4e7c60e8113d12ff5c8...   \n",
       "4  2066_1080373862_png.rf.a63e0a6f7806827934bda38...   \n",
       "\n",
       "                                          image_path  label  split  \n",
       "0  ../raw_data/breast-cancer-detection/train/0/16...      0  train  \n",
       "1  ../raw_data/breast-cancer-detection/train/1/37...      1  train  \n",
       "2  ../raw_data/breast-cancer-detection/train/0/24...      0  train  \n",
       "3  ../raw_data/breast-cancer-detection/train/0/25...      0  train  \n",
       "4  ../raw_data/breast-cancer-detection/train/0/20...      0  train  "
      ]
     },
     "execution_count": 8,
     "metadata": {},
     "output_type": "execute_result"
    }
   ],
   "source": [
    "combined_train_df.head()"
   ]
  },
  {
   "cell_type": "code",
   "execution_count": 9,
   "id": "ded4d787",
   "metadata": {},
   "outputs": [],
   "source": [
    "def load_data_concurrently(df, preprocess_image_func, max_workers=4):\n",
    "    \"\"\"\n",
    "    Load images concurrently using ThreadPoolExecutor.\n",
    "    Args:\n",
    "        df (pd.DataFrame): DataFrame containing image paths and labels.\n",
    "        preprocess_image_func (function): Function to preprocess images.\n",
    "        max_workers (int): Number of threads to use.\n",
    "    Returns:\n",
    "        tuple: Numpy arrays of images and labels.\n",
    "    \"\"\"\n",
    "    images = []\n",
    "    labels = []\n",
    "\n",
    "    def process_row(row):\n",
    "        img_path = row['image_path']\n",
    "        if os.path.exists(img_path):\n",
    "            image = cv2.imread(img_path, cv2.IMREAD_GRAYSCALE)\n",
    "            processed_image = preprocess_image_func(image)\n",
    "            return processed_image, row['label']\n",
    "        else:\n",
    "            print(f\"Warning: Image not found at {img_path}\")\n",
    "            return None\n",
    "\n",
    "    with ThreadPoolExecutor(max_workers=max_workers) as executor:\n",
    "        futures = [executor.submit(process_row, row) for _, row in df.iterrows()]\n",
    "        for future in futures:\n",
    "            result = future.result()\n",
    "            if result is not None:\n",
    "                img, label = result\n",
    "                images.append(img)\n",
    "                labels.append(label)\n",
    "\n",
    "    return np.array(images), np.array(labels)"
   ]
  },
  {
   "cell_type": "code",
   "execution_count": 10,
   "id": "d05f8d4f",
   "metadata": {},
   "outputs": [],
   "source": [
    "preproc = Preprocessor()"
   ]
  },
  {
   "cell_type": "markdown",
   "id": "e609e737",
   "metadata": {},
   "source": [
    "## 2. Model training and evaluation functions"
   ]
  },
  {
   "cell_type": "markdown",
   "id": "d7c54fea",
   "metadata": {},
   "source": [
    "### 2.1 Model training functions"
   ]
  },
  {
   "cell_type": "code",
   "execution_count": null,
   "id": "e4715d10",
   "metadata": {},
   "outputs": [],
   "source": [
    "def create_model(input_shape=(224, 224, 3)):\n",
    "    # Base model with pre-trained weights\n",
    "    base_model = EfficientNetB0(\n",
    "        include_top=False,\n",
    "        weights='imagenet',\n",
    "        input_shape=input_shape\n",
    "    )\n",
    "\n",
    "    # Freeze first 75% of layers\n",
    "    # num_layers = len(base_model.layers)\n",
    "    # freeze_up_to = int(num_layers * 0.75)  # Calculate 75% cutoff\n",
    "    # for layer in base_model.layers[:freeze_up_to]:\n",
    "    #     layer.trainable = False  # Freeze individual layers\n",
    "    base_model.trainable = False\n",
    "\n",
    "    # Explicitly define inputs and pass training=False for batch norm\n",
    "    inputs = base_model.input\n",
    "    x = base_model(inputs, training=False)  # Critical for batch norm handling[1][4]\n",
    "\n",
    "    # Existing top layers\n",
    "    x = GlobalAveragePooling2D()(x)\n",
    "    x = Dropout(0.5)(x)\n",
    "    x = Dense(128, activation='relu')(x)\n",
    "    x = Dropout(0.3)(x)\n",
    "    predictions = Dense(1, activation='sigmoid')(x)\n",
    "\n",
    "    model = Model(inputs=inputs, outputs=predictions)\n",
    "\n",
    "    model.compile(\n",
    "        optimizer=Adam(learning_rate=3e-4),\n",
    "        loss='binary_crossentropy',\n",
    "        metrics=['accuracy', \"precision\", \"recall\", 'AUC']\n",
    "    )\n",
    "    return model"
   ]
  },
  {
   "cell_type": "code",
   "execution_count": null,
   "id": "2893618e",
   "metadata": {},
   "outputs": [],
   "source": [
    "from tensorflow.keras.applications import VGG19  # Changed import\n",
    "\n",
    "def create_model_vgg19(input_shape=(224, 224, 3)):\n",
    "    # Base model with pre-trained weights\n",
    "    base_model = VGG19(  # Changed to VGG19\n",
    "        include_top=False,\n",
    "        weights='imagenet',\n",
    "        input_shape=input_shape\n",
    "    )\n",
    "    base_model.trainable = False\n",
    "\n",
    "    # Build model\n",
    "    inputs = base_model.input\n",
    "    x = base_model(inputs)  # Removed training=False (not needed for VGG19)\n",
    "\n",
    "    # Adjusted top layers for VGG19\n",
    "    x = GlobalAveragePooling2D()(x)\n",
    "    x = Dense(256, activation='relu')(x)  # Increased from 128 to 256\n",
    "    x = Dropout(0.5)(x)\n",
    "    x = Dense(128, activation='relu')(x)  # Additional layer\n",
    "    x = Dropout(0.3)(x)\n",
    "    predictions = Dense(1, activation='sigmoid')(x)\n",
    "\n",
    "    model = Model(inputs=inputs, outputs=predictions)\n",
    "\n",
    "    model.compile(\n",
    "        optimizer=Adam(learning_rate=1e-4),  # Reduced learning rate\n",
    "        loss='binary_crossentropy',\n",
    "        metrics=['accuracy', \"precision\", \"recall\", 'AUC']\n",
    "    )\n",
    "    return model\n"
   ]
  },
  {
   "cell_type": "code",
   "execution_count": 5,
   "id": "7438e978",
   "metadata": {},
   "outputs": [
    {
     "name": "stderr",
     "output_type": "stream",
     "text": [
      "2025-06-18 16:55:45.881962: I metal_plugin/src/device/metal_device.cc:1154] Metal device set to: Apple M1\n",
      "2025-06-18 16:55:45.882064: I metal_plugin/src/device/metal_device.cc:296] systemMemory: 8.00 GB\n",
      "2025-06-18 16:55:45.882108: I metal_plugin/src/device/metal_device.cc:313] maxCacheSize: 2.67 GB\n",
      "2025-06-18 16:55:45.882493: I tensorflow/core/common_runtime/pluggable_device/pluggable_device_factory.cc:305] Could not identify NUMA node of platform GPU ID 0, defaulting to 0. Your kernel may not have been built with NUMA support.\n",
      "2025-06-18 16:55:45.882638: I tensorflow/core/common_runtime/pluggable_device/pluggable_device_factory.cc:271] Created TensorFlow device (/job:localhost/replica:0/task:0/device:GPU:0 with 0 MB memory) -> physical PluggableDevice (device: 0, name: METAL, pci bus id: <undefined>)\n"
     ]
    },
    {
     "data": {
      "text/html": [
       "<pre style=\"white-space:pre;overflow-x:auto;line-height:normal;font-family:Menlo,'DejaVu Sans Mono',consolas,'Courier New',monospace\"><span style=\"font-weight: bold\">Model: \"functional\"</span>\n",
       "</pre>\n"
      ],
      "text/plain": [
       "\u001b[1mModel: \"functional\"\u001b[0m\n"
      ]
     },
     "metadata": {},
     "output_type": "display_data"
    },
    {
     "data": {
      "text/html": [
       "<pre style=\"white-space:pre;overflow-x:auto;line-height:normal;font-family:Menlo,'DejaVu Sans Mono',consolas,'Courier New',monospace\">┏━━━━━━━━━━━━━━━━━━━━━━━━━━━━━━━━━┳━━━━━━━━━━━━━━━━━━━━━━━━┳━━━━━━━━━━━━━━━┓\n",
       "┃<span style=\"font-weight: bold\"> Layer (type)                    </span>┃<span style=\"font-weight: bold\"> Output Shape           </span>┃<span style=\"font-weight: bold\">       Param # </span>┃\n",
       "┡━━━━━━━━━━━━━━━━━━━━━━━━━━━━━━━━━╇━━━━━━━━━━━━━━━━━━━━━━━━╇━━━━━━━━━━━━━━━┩\n",
       "│ input_layer (<span style=\"color: #0087ff; text-decoration-color: #0087ff\">InputLayer</span>)        │ (<span style=\"color: #00d7ff; text-decoration-color: #00d7ff\">None</span>, <span style=\"color: #00af00; text-decoration-color: #00af00\">224</span>, <span style=\"color: #00af00; text-decoration-color: #00af00\">224</span>, <span style=\"color: #00af00; text-decoration-color: #00af00\">3</span>)    │             <span style=\"color: #00af00; text-decoration-color: #00af00\">0</span> │\n",
       "├─────────────────────────────────┼────────────────────────┼───────────────┤\n",
       "│ vgg19 (<span style=\"color: #0087ff; text-decoration-color: #0087ff\">Functional</span>)              │ (<span style=\"color: #00d7ff; text-decoration-color: #00d7ff\">None</span>, <span style=\"color: #00af00; text-decoration-color: #00af00\">7</span>, <span style=\"color: #00af00; text-decoration-color: #00af00\">7</span>, <span style=\"color: #00af00; text-decoration-color: #00af00\">512</span>)      │    <span style=\"color: #00af00; text-decoration-color: #00af00\">20,024,384</span> │\n",
       "├─────────────────────────────────┼────────────────────────┼───────────────┤\n",
       "│ global_average_pooling2d        │ (<span style=\"color: #00d7ff; text-decoration-color: #00d7ff\">None</span>, <span style=\"color: #00af00; text-decoration-color: #00af00\">512</span>)            │             <span style=\"color: #00af00; text-decoration-color: #00af00\">0</span> │\n",
       "│ (<span style=\"color: #0087ff; text-decoration-color: #0087ff\">GlobalAveragePooling2D</span>)        │                        │               │\n",
       "├─────────────────────────────────┼────────────────────────┼───────────────┤\n",
       "│ dense (<span style=\"color: #0087ff; text-decoration-color: #0087ff\">Dense</span>)                   │ (<span style=\"color: #00d7ff; text-decoration-color: #00d7ff\">None</span>, <span style=\"color: #00af00; text-decoration-color: #00af00\">256</span>)            │       <span style=\"color: #00af00; text-decoration-color: #00af00\">131,328</span> │\n",
       "├─────────────────────────────────┼────────────────────────┼───────────────┤\n",
       "│ dropout (<span style=\"color: #0087ff; text-decoration-color: #0087ff\">Dropout</span>)               │ (<span style=\"color: #00d7ff; text-decoration-color: #00d7ff\">None</span>, <span style=\"color: #00af00; text-decoration-color: #00af00\">256</span>)            │             <span style=\"color: #00af00; text-decoration-color: #00af00\">0</span> │\n",
       "├─────────────────────────────────┼────────────────────────┼───────────────┤\n",
       "│ dense_1 (<span style=\"color: #0087ff; text-decoration-color: #0087ff\">Dense</span>)                 │ (<span style=\"color: #00d7ff; text-decoration-color: #00d7ff\">None</span>, <span style=\"color: #00af00; text-decoration-color: #00af00\">128</span>)            │        <span style=\"color: #00af00; text-decoration-color: #00af00\">32,896</span> │\n",
       "├─────────────────────────────────┼────────────────────────┼───────────────┤\n",
       "│ dropout_1 (<span style=\"color: #0087ff; text-decoration-color: #0087ff\">Dropout</span>)             │ (<span style=\"color: #00d7ff; text-decoration-color: #00d7ff\">None</span>, <span style=\"color: #00af00; text-decoration-color: #00af00\">128</span>)            │             <span style=\"color: #00af00; text-decoration-color: #00af00\">0</span> │\n",
       "├─────────────────────────────────┼────────────────────────┼───────────────┤\n",
       "│ dense_2 (<span style=\"color: #0087ff; text-decoration-color: #0087ff\">Dense</span>)                 │ (<span style=\"color: #00d7ff; text-decoration-color: #00d7ff\">None</span>, <span style=\"color: #00af00; text-decoration-color: #00af00\">1</span>)              │           <span style=\"color: #00af00; text-decoration-color: #00af00\">129</span> │\n",
       "└─────────────────────────────────┴────────────────────────┴───────────────┘\n",
       "</pre>\n"
      ],
      "text/plain": [
       "┏━━━━━━━━━━━━━━━━━━━━━━━━━━━━━━━━━┳━━━━━━━━━━━━━━━━━━━━━━━━┳━━━━━━━━━━━━━━━┓\n",
       "┃\u001b[1m \u001b[0m\u001b[1mLayer (type)                   \u001b[0m\u001b[1m \u001b[0m┃\u001b[1m \u001b[0m\u001b[1mOutput Shape          \u001b[0m\u001b[1m \u001b[0m┃\u001b[1m \u001b[0m\u001b[1m      Param #\u001b[0m\u001b[1m \u001b[0m┃\n",
       "┡━━━━━━━━━━━━━━━━━━━━━━━━━━━━━━━━━╇━━━━━━━━━━━━━━━━━━━━━━━━╇━━━━━━━━━━━━━━━┩\n",
       "│ input_layer (\u001b[38;5;33mInputLayer\u001b[0m)        │ (\u001b[38;5;45mNone\u001b[0m, \u001b[38;5;34m224\u001b[0m, \u001b[38;5;34m224\u001b[0m, \u001b[38;5;34m3\u001b[0m)    │             \u001b[38;5;34m0\u001b[0m │\n",
       "├─────────────────────────────────┼────────────────────────┼───────────────┤\n",
       "│ vgg19 (\u001b[38;5;33mFunctional\u001b[0m)              │ (\u001b[38;5;45mNone\u001b[0m, \u001b[38;5;34m7\u001b[0m, \u001b[38;5;34m7\u001b[0m, \u001b[38;5;34m512\u001b[0m)      │    \u001b[38;5;34m20,024,384\u001b[0m │\n",
       "├─────────────────────────────────┼────────────────────────┼───────────────┤\n",
       "│ global_average_pooling2d        │ (\u001b[38;5;45mNone\u001b[0m, \u001b[38;5;34m512\u001b[0m)            │             \u001b[38;5;34m0\u001b[0m │\n",
       "│ (\u001b[38;5;33mGlobalAveragePooling2D\u001b[0m)        │                        │               │\n",
       "├─────────────────────────────────┼────────────────────────┼───────────────┤\n",
       "│ dense (\u001b[38;5;33mDense\u001b[0m)                   │ (\u001b[38;5;45mNone\u001b[0m, \u001b[38;5;34m256\u001b[0m)            │       \u001b[38;5;34m131,328\u001b[0m │\n",
       "├─────────────────────────────────┼────────────────────────┼───────────────┤\n",
       "│ dropout (\u001b[38;5;33mDropout\u001b[0m)               │ (\u001b[38;5;45mNone\u001b[0m, \u001b[38;5;34m256\u001b[0m)            │             \u001b[38;5;34m0\u001b[0m │\n",
       "├─────────────────────────────────┼────────────────────────┼───────────────┤\n",
       "│ dense_1 (\u001b[38;5;33mDense\u001b[0m)                 │ (\u001b[38;5;45mNone\u001b[0m, \u001b[38;5;34m128\u001b[0m)            │        \u001b[38;5;34m32,896\u001b[0m │\n",
       "├─────────────────────────────────┼────────────────────────┼───────────────┤\n",
       "│ dropout_1 (\u001b[38;5;33mDropout\u001b[0m)             │ (\u001b[38;5;45mNone\u001b[0m, \u001b[38;5;34m128\u001b[0m)            │             \u001b[38;5;34m0\u001b[0m │\n",
       "├─────────────────────────────────┼────────────────────────┼───────────────┤\n",
       "│ dense_2 (\u001b[38;5;33mDense\u001b[0m)                 │ (\u001b[38;5;45mNone\u001b[0m, \u001b[38;5;34m1\u001b[0m)              │           \u001b[38;5;34m129\u001b[0m │\n",
       "└─────────────────────────────────┴────────────────────────┴───────────────┘\n"
      ]
     },
     "metadata": {},
     "output_type": "display_data"
    },
    {
     "data": {
      "text/html": [
       "<pre style=\"white-space:pre;overflow-x:auto;line-height:normal;font-family:Menlo,'DejaVu Sans Mono',consolas,'Courier New',monospace\"><span style=\"font-weight: bold\"> Total params: </span><span style=\"color: #00af00; text-decoration-color: #00af00\">20,188,737</span> (77.01 MB)\n",
       "</pre>\n"
      ],
      "text/plain": [
       "\u001b[1m Total params: \u001b[0m\u001b[38;5;34m20,188,737\u001b[0m (77.01 MB)\n"
      ]
     },
     "metadata": {},
     "output_type": "display_data"
    },
    {
     "data": {
      "text/html": [
       "<pre style=\"white-space:pre;overflow-x:auto;line-height:normal;font-family:Menlo,'DejaVu Sans Mono',consolas,'Courier New',monospace\"><span style=\"font-weight: bold\"> Trainable params: </span><span style=\"color: #00af00; text-decoration-color: #00af00\">164,353</span> (642.00 KB)\n",
       "</pre>\n"
      ],
      "text/plain": [
       "\u001b[1m Trainable params: \u001b[0m\u001b[38;5;34m164,353\u001b[0m (642.00 KB)\n"
      ]
     },
     "metadata": {},
     "output_type": "display_data"
    },
    {
     "data": {
      "text/html": [
       "<pre style=\"white-space:pre;overflow-x:auto;line-height:normal;font-family:Menlo,'DejaVu Sans Mono',consolas,'Courier New',monospace\"><span style=\"font-weight: bold\"> Non-trainable params: </span><span style=\"color: #00af00; text-decoration-color: #00af00\">20,024,384</span> (76.39 MB)\n",
       "</pre>\n"
      ],
      "text/plain": [
       "\u001b[1m Non-trainable params: \u001b[0m\u001b[38;5;34m20,024,384\u001b[0m (76.39 MB)\n"
      ]
     },
     "metadata": {},
     "output_type": "display_data"
    }
   ],
   "source": [
    "model_test = create_model_vgg19()\n",
    "model_test.summary()"
   ]
  },
  {
   "cell_type": "code",
   "execution_count": 6,
   "id": "75dc5a50",
   "metadata": {},
   "outputs": [],
   "source": [
    "def train_mammography_classifier(train_df, val_df, test_df,\n",
    "                                 preprocess_image_func,\n",
    "                                 epochs=100,\n",
    "                                 use_callbacks=True,\n",
    "                                 use_data_augmentation=False):\n",
    "    \"\"\"\n",
    "    Complete binary classification training pipeline with patient-based splits\n",
    "    Args:\n",
    "        train_df (pd.DataFrame): DataFrame for training set.\n",
    "        val_df (pd.DataFrame): DataFrame for validation set.\n",
    "        test_df (pd.DataFrame): DataFrame for test set.\n",
    "        preprocess_image_func (function): Function to preprocess images.\n",
    "    Returns:\n",
    "        tuple: Trained model, training history, and test data.\n",
    "    \"\"\"\n",
    "    # Load and preprocess data for each split\n",
    "    print(\"Loading and preprocessing images...\")\n",
    "    X_train, y_train = load_data_concurrently(train_df, preprocess_image_func)\n",
    "    X_val, y_val = load_data_concurrently(val_df, preprocess_image_func)\n",
    "    X_test, y_test = load_data_concurrently(test_df, preprocess_image_func)\n",
    "\n",
    "    print(f\"Training samples: {len(X_train)} with {sum(y_train == 0)} non-cancer images and {sum(y_train == 1)} cancer images.\")\n",
    "    print(f\"Validation samples: {len(X_val)} with {sum(y_val == 0)} non-cancer images and {sum(y_val == 1)} cancer images.\")\n",
    "    print(f\"Test samples: {len(X_test)} with {sum(y_test == 0)} non-cancer images and {sum(y_test == 1)} cancer images.\")\n",
    "\n",
    "    # Create and compile model\n",
    "    input_shape = X_train.shape[1:]\n",
    "    model = create_model_vgg19(input_shape)\n",
    "\n",
    "    print(\"\\nModel Summary:\")\n",
    "    model.summary()\n",
    "\n",
    "    # Data augmentation\n",
    "    datagen = ImageDataGenerator(rotation_range=15,\n",
    "                                 width_shift_range=0.1,\n",
    "                                 height_shift_range=0.1,\n",
    "                                 shear_range=0.1,\n",
    "                                 zoom_range=0.1,\n",
    "                                 horizontal_flip=True,\n",
    "                                 fill_mode='nearest'\n",
    "                                 )\n",
    "\n",
    "    # Callbacks\n",
    "    es = EarlyStopping(\n",
    "        monitor='val_AUC',\n",
    "        patience=10,\n",
    "        verbose=1,\n",
    "        mode = 'max',\n",
    "        restore_best_weights=True\n",
    "    )\n",
    "\n",
    "    plateau = ReduceLROnPlateau(\n",
    "        monitor='val_AUC',\n",
    "        factor=0.5,\n",
    "        patience=3,\n",
    "        verbose=1,\n",
    "        mode='max',\n",
    "        min_lr=0.000001\n",
    "    )\n",
    "\n",
    "    if use_callbacks:\n",
    "        callbacks = [es, plateau]\n",
    "    else:\n",
    "        callbacks = None\n",
    "\n",
    "    # Training with 4-fold validation strategy\n",
    "    print(\"Starting training...\")\n",
    "    if use_data_augmentation:\n",
    "        train_generator = datagen.flow(X_train, y_train, batch_size=64)\n",
    "        steps_per_epoch = len(X_train) // 64\n",
    "        history = model.fit(\n",
    "            train_generator,\n",
    "            steps_per_epoch=steps_per_epoch,\n",
    "            validation_data=(X_val, y_val),\n",
    "            epochs=epochs,\n",
    "            callbacks=callbacks,\n",
    "            verbose=1\n",
    "        )\n",
    "    else:\n",
    "        history = model.fit(\n",
    "            X_train, y_train,\n",
    "            batch_size=64,\n",
    "            validation_data=(X_val, y_val),\n",
    "            epochs=epochs,\n",
    "            callbacks=callbacks,\n",
    "            verbose=1\n",
    "        )\n",
    "\n",
    "    return model, history, X_train, y_train, X_val, y_val, X_test, y_test"
   ]
  },
  {
   "cell_type": "markdown",
   "id": "c0b81f21",
   "metadata": {},
   "source": [
    "### 2.2 Model evalution function"
   ]
  },
  {
   "cell_type": "code",
   "execution_count": 7,
   "id": "d852dcf3",
   "metadata": {},
   "outputs": [],
   "source": [
    "def evaluate_final_model(model, X_test, y_test):\n",
    "    \"\"\"\n",
    "    Evaluate the trained model on the test set\n",
    "    Args:\n",
    "        model (tf.keras.Model): Trained model.\n",
    "        X_test (np.ndarray): Test images.\n",
    "        y_test (np.ndarray): Test labels.\n",
    "    Returns:\n",
    "        None\n",
    "    \"\"\"\n",
    "    # Make predictions\n",
    "    y_pred_prob = model.predict(X_test)\n",
    "    y_pred = (y_pred_prob > 0.5).astype(int).flatten()\n",
    "\n",
    "    # Print classification report\n",
    "    print(\"\\nFinal Test Set Evaluation:\")\n",
    "    print(\"=\"*50)\n",
    "    target_names = ['Non-Cancer (Benign+Normal)', 'Cancer']\n",
    "    print(classification_report(y_test, y_pred, target_names=target_names))\n",
    "\n",
    "    # Confusion matrix\n",
    "    print(\"\\nConfusion Matrix:\")\n",
    "    cm = confusion_matrix(y_test, y_pred)\n",
    "    disp = ConfusionMatrixDisplay(confusion_matrix=cm, display_labels=['Class 0', 'Class 1'])\n",
    "    disp.plot(cmap=plt.cm.Blues)\n",
    "    plt.show()\n",
    "\n",
    "    # Calculate medical metrics\n",
    "    tn, fp, fn, tp = cm.ravel()\n",
    "    sensitivity = tp / (tp + fn) if (tp + fn) > 0 else 0  # Recall for cancer detection\n",
    "    specificity = tn / (tn + fp) if (tn + fp) > 0 else 0  # Recall for non-cancer detection\n",
    "    ppv = tp / (tp + fp) if (tp + fp) > 0 else 0  # Positive Predictive Value\n",
    "    npv = tn / (tn + fn) if (tn + fn) > 0 else 0  # Negative Predictive Value\n",
    "\n",
    "    print(f\"\\nMedical Performance Metrics:\")\n",
    "    print(f\"Sensitivity (Cancer Detection Rate): {sensitivity:.3f}\")\n",
    "    print(f\"Specificity (Non-Cancer Detection Rate): {specificity:.3f}\")\n",
    "    print(f\"Positive Predictive Value (PPV): {ppv:.3f}\")\n",
    "    print(f\"Negative Predictive Value (NPV): {npv:.3f}\")\n"
   ]
  },
  {
   "cell_type": "markdown",
   "id": "304ea404",
   "metadata": {},
   "source": [
    "## 3. Model training and evaluation"
   ]
  },
  {
   "cell_type": "code",
   "execution_count": 16,
   "id": "6a852167",
   "metadata": {},
   "outputs": [
    {
     "name": "stdout",
     "output_type": "stream",
     "text": [
      "[PhysicalDevice(name='/physical_device:GPU:0', device_type='GPU')]\n"
     ]
    }
   ],
   "source": [
    "print(tf.config.list_physical_devices('GPU'))"
   ]
  },
  {
   "cell_type": "code",
   "execution_count": 17,
   "id": "f40cd5df",
   "metadata": {},
   "outputs": [
    {
     "name": "stdout",
     "output_type": "stream",
     "text": [
      "Loading and preprocessing images...\n",
      "Training samples: 5366 with 2683 non-cancer images and 2683 cancer images.\n",
      "Validation samples: 1819 with 1180 non-cancer images and 639 cancer images.\n",
      "Test samples: 1520 with 968 non-cancer images and 552 cancer images.\n",
      "\n",
      "Model Summary:\n"
     ]
    },
    {
     "data": {
      "text/html": [
       "<pre style=\"white-space:pre;overflow-x:auto;line-height:normal;font-family:Menlo,'DejaVu Sans Mono',consolas,'Courier New',monospace\"><span style=\"font-weight: bold\">Model: \"functional_1\"</span>\n",
       "</pre>\n"
      ],
      "text/plain": [
       "\u001b[1mModel: \"functional_1\"\u001b[0m\n"
      ]
     },
     "metadata": {},
     "output_type": "display_data"
    },
    {
     "data": {
      "text/html": [
       "<pre style=\"white-space:pre;overflow-x:auto;line-height:normal;font-family:Menlo,'DejaVu Sans Mono',consolas,'Courier New',monospace\">┏━━━━━━━━━━━━━━━━━━━━━━━━━━━━━━━━━┳━━━━━━━━━━━━━━━━━━━━━━━━┳━━━━━━━━━━━━━━━┓\n",
       "┃<span style=\"font-weight: bold\"> Layer (type)                    </span>┃<span style=\"font-weight: bold\"> Output Shape           </span>┃<span style=\"font-weight: bold\">       Param # </span>┃\n",
       "┡━━━━━━━━━━━━━━━━━━━━━━━━━━━━━━━━━╇━━━━━━━━━━━━━━━━━━━━━━━━╇━━━━━━━━━━━━━━━┩\n",
       "│ input_layer_1 (<span style=\"color: #0087ff; text-decoration-color: #0087ff\">InputLayer</span>)      │ (<span style=\"color: #00d7ff; text-decoration-color: #00d7ff\">None</span>, <span style=\"color: #00af00; text-decoration-color: #00af00\">224</span>, <span style=\"color: #00af00; text-decoration-color: #00af00\">224</span>, <span style=\"color: #00af00; text-decoration-color: #00af00\">3</span>)    │             <span style=\"color: #00af00; text-decoration-color: #00af00\">0</span> │\n",
       "├─────────────────────────────────┼────────────────────────┼───────────────┤\n",
       "│ vgg19 (<span style=\"color: #0087ff; text-decoration-color: #0087ff\">Functional</span>)              │ (<span style=\"color: #00d7ff; text-decoration-color: #00d7ff\">None</span>, <span style=\"color: #00af00; text-decoration-color: #00af00\">7</span>, <span style=\"color: #00af00; text-decoration-color: #00af00\">7</span>, <span style=\"color: #00af00; text-decoration-color: #00af00\">512</span>)      │    <span style=\"color: #00af00; text-decoration-color: #00af00\">20,024,384</span> │\n",
       "├─────────────────────────────────┼────────────────────────┼───────────────┤\n",
       "│ global_average_pooling2d_1      │ (<span style=\"color: #00d7ff; text-decoration-color: #00d7ff\">None</span>, <span style=\"color: #00af00; text-decoration-color: #00af00\">512</span>)            │             <span style=\"color: #00af00; text-decoration-color: #00af00\">0</span> │\n",
       "│ (<span style=\"color: #0087ff; text-decoration-color: #0087ff\">GlobalAveragePooling2D</span>)        │                        │               │\n",
       "├─────────────────────────────────┼────────────────────────┼───────────────┤\n",
       "│ dense_3 (<span style=\"color: #0087ff; text-decoration-color: #0087ff\">Dense</span>)                 │ (<span style=\"color: #00d7ff; text-decoration-color: #00d7ff\">None</span>, <span style=\"color: #00af00; text-decoration-color: #00af00\">256</span>)            │       <span style=\"color: #00af00; text-decoration-color: #00af00\">131,328</span> │\n",
       "├─────────────────────────────────┼────────────────────────┼───────────────┤\n",
       "│ dropout_2 (<span style=\"color: #0087ff; text-decoration-color: #0087ff\">Dropout</span>)             │ (<span style=\"color: #00d7ff; text-decoration-color: #00d7ff\">None</span>, <span style=\"color: #00af00; text-decoration-color: #00af00\">256</span>)            │             <span style=\"color: #00af00; text-decoration-color: #00af00\">0</span> │\n",
       "├─────────────────────────────────┼────────────────────────┼───────────────┤\n",
       "│ dense_4 (<span style=\"color: #0087ff; text-decoration-color: #0087ff\">Dense</span>)                 │ (<span style=\"color: #00d7ff; text-decoration-color: #00d7ff\">None</span>, <span style=\"color: #00af00; text-decoration-color: #00af00\">128</span>)            │        <span style=\"color: #00af00; text-decoration-color: #00af00\">32,896</span> │\n",
       "├─────────────────────────────────┼────────────────────────┼───────────────┤\n",
       "│ dropout_3 (<span style=\"color: #0087ff; text-decoration-color: #0087ff\">Dropout</span>)             │ (<span style=\"color: #00d7ff; text-decoration-color: #00d7ff\">None</span>, <span style=\"color: #00af00; text-decoration-color: #00af00\">128</span>)            │             <span style=\"color: #00af00; text-decoration-color: #00af00\">0</span> │\n",
       "├─────────────────────────────────┼────────────────────────┼───────────────┤\n",
       "│ dense_5 (<span style=\"color: #0087ff; text-decoration-color: #0087ff\">Dense</span>)                 │ (<span style=\"color: #00d7ff; text-decoration-color: #00d7ff\">None</span>, <span style=\"color: #00af00; text-decoration-color: #00af00\">1</span>)              │           <span style=\"color: #00af00; text-decoration-color: #00af00\">129</span> │\n",
       "└─────────────────────────────────┴────────────────────────┴───────────────┘\n",
       "</pre>\n"
      ],
      "text/plain": [
       "┏━━━━━━━━━━━━━━━━━━━━━━━━━━━━━━━━━┳━━━━━━━━━━━━━━━━━━━━━━━━┳━━━━━━━━━━━━━━━┓\n",
       "┃\u001b[1m \u001b[0m\u001b[1mLayer (type)                   \u001b[0m\u001b[1m \u001b[0m┃\u001b[1m \u001b[0m\u001b[1mOutput Shape          \u001b[0m\u001b[1m \u001b[0m┃\u001b[1m \u001b[0m\u001b[1m      Param #\u001b[0m\u001b[1m \u001b[0m┃\n",
       "┡━━━━━━━━━━━━━━━━━━━━━━━━━━━━━━━━━╇━━━━━━━━━━━━━━━━━━━━━━━━╇━━━━━━━━━━━━━━━┩\n",
       "│ input_layer_1 (\u001b[38;5;33mInputLayer\u001b[0m)      │ (\u001b[38;5;45mNone\u001b[0m, \u001b[38;5;34m224\u001b[0m, \u001b[38;5;34m224\u001b[0m, \u001b[38;5;34m3\u001b[0m)    │             \u001b[38;5;34m0\u001b[0m │\n",
       "├─────────────────────────────────┼────────────────────────┼───────────────┤\n",
       "│ vgg19 (\u001b[38;5;33mFunctional\u001b[0m)              │ (\u001b[38;5;45mNone\u001b[0m, \u001b[38;5;34m7\u001b[0m, \u001b[38;5;34m7\u001b[0m, \u001b[38;5;34m512\u001b[0m)      │    \u001b[38;5;34m20,024,384\u001b[0m │\n",
       "├─────────────────────────────────┼────────────────────────┼───────────────┤\n",
       "│ global_average_pooling2d_1      │ (\u001b[38;5;45mNone\u001b[0m, \u001b[38;5;34m512\u001b[0m)            │             \u001b[38;5;34m0\u001b[0m │\n",
       "│ (\u001b[38;5;33mGlobalAveragePooling2D\u001b[0m)        │                        │               │\n",
       "├─────────────────────────────────┼────────────────────────┼───────────────┤\n",
       "│ dense_3 (\u001b[38;5;33mDense\u001b[0m)                 │ (\u001b[38;5;45mNone\u001b[0m, \u001b[38;5;34m256\u001b[0m)            │       \u001b[38;5;34m131,328\u001b[0m │\n",
       "├─────────────────────────────────┼────────────────────────┼───────────────┤\n",
       "│ dropout_2 (\u001b[38;5;33mDropout\u001b[0m)             │ (\u001b[38;5;45mNone\u001b[0m, \u001b[38;5;34m256\u001b[0m)            │             \u001b[38;5;34m0\u001b[0m │\n",
       "├─────────────────────────────────┼────────────────────────┼───────────────┤\n",
       "│ dense_4 (\u001b[38;5;33mDense\u001b[0m)                 │ (\u001b[38;5;45mNone\u001b[0m, \u001b[38;5;34m128\u001b[0m)            │        \u001b[38;5;34m32,896\u001b[0m │\n",
       "├─────────────────────────────────┼────────────────────────┼───────────────┤\n",
       "│ dropout_3 (\u001b[38;5;33mDropout\u001b[0m)             │ (\u001b[38;5;45mNone\u001b[0m, \u001b[38;5;34m128\u001b[0m)            │             \u001b[38;5;34m0\u001b[0m │\n",
       "├─────────────────────────────────┼────────────────────────┼───────────────┤\n",
       "│ dense_5 (\u001b[38;5;33mDense\u001b[0m)                 │ (\u001b[38;5;45mNone\u001b[0m, \u001b[38;5;34m1\u001b[0m)              │           \u001b[38;5;34m129\u001b[0m │\n",
       "└─────────────────────────────────┴────────────────────────┴───────────────┘\n"
      ]
     },
     "metadata": {},
     "output_type": "display_data"
    },
    {
     "data": {
      "text/html": [
       "<pre style=\"white-space:pre;overflow-x:auto;line-height:normal;font-family:Menlo,'DejaVu Sans Mono',consolas,'Courier New',monospace\"><span style=\"font-weight: bold\"> Total params: </span><span style=\"color: #00af00; text-decoration-color: #00af00\">20,188,737</span> (77.01 MB)\n",
       "</pre>\n"
      ],
      "text/plain": [
       "\u001b[1m Total params: \u001b[0m\u001b[38;5;34m20,188,737\u001b[0m (77.01 MB)\n"
      ]
     },
     "metadata": {},
     "output_type": "display_data"
    },
    {
     "data": {
      "text/html": [
       "<pre style=\"white-space:pre;overflow-x:auto;line-height:normal;font-family:Menlo,'DejaVu Sans Mono',consolas,'Courier New',monospace\"><span style=\"font-weight: bold\"> Trainable params: </span><span style=\"color: #00af00; text-decoration-color: #00af00\">164,353</span> (642.00 KB)\n",
       "</pre>\n"
      ],
      "text/plain": [
       "\u001b[1m Trainable params: \u001b[0m\u001b[38;5;34m164,353\u001b[0m (642.00 KB)\n"
      ]
     },
     "metadata": {},
     "output_type": "display_data"
    },
    {
     "data": {
      "text/html": [
       "<pre style=\"white-space:pre;overflow-x:auto;line-height:normal;font-family:Menlo,'DejaVu Sans Mono',consolas,'Courier New',monospace\"><span style=\"font-weight: bold\"> Non-trainable params: </span><span style=\"color: #00af00; text-decoration-color: #00af00\">20,024,384</span> (76.39 MB)\n",
       "</pre>\n"
      ],
      "text/plain": [
       "\u001b[1m Non-trainable params: \u001b[0m\u001b[38;5;34m20,024,384\u001b[0m (76.39 MB)\n"
      ]
     },
     "metadata": {},
     "output_type": "display_data"
    },
    {
     "name": "stdout",
     "output_type": "stream",
     "text": [
      "Starting training...\n",
      "Epoch 1/50\n"
     ]
    },
    {
     "name": "stderr",
     "output_type": "stream",
     "text": [
      "2025-06-18 09:51:51.263307: I tensorflow/core/grappler/optimizers/custom_graph_optimizer_registry.cc:117] Plugin optimizer for device_type GPU is enabled.\n"
     ]
    },
    {
     "name": "stdout",
     "output_type": "stream",
     "text": [
      "\u001b[1m84/84\u001b[0m \u001b[32m━━━━━━━━━━━━━━━━━━━━\u001b[0m\u001b[37m\u001b[0m \u001b[1m148s\u001b[0m 2s/step - AUC: 0.4741 - accuracy: 0.4753 - loss: 0.9110 - precision: 0.4793 - recall: 0.4917 - val_AUC: 0.5200 - val_accuracy: 0.5646 - val_loss: 0.6883 - val_precision: 0.3554 - val_recall: 0.2942 - learning_rate: 1.0000e-04\n",
      "Epoch 2/50\n",
      "\u001b[1m84/84\u001b[0m \u001b[32m━━━━━━━━━━━━━━━━━━━━\u001b[0m\u001b[37m\u001b[0m \u001b[1m154s\u001b[0m 2s/step - AUC: 0.4904 - accuracy: 0.4788 - loss: 0.8620 - precision: 0.4899 - recall: 0.4838 - val_AUC: 0.5215 - val_accuracy: 0.5607 - val_loss: 0.6878 - val_precision: 0.3485 - val_recall: 0.2879 - learning_rate: 1.0000e-04\n",
      "Epoch 3/50\n",
      "\u001b[1m84/84\u001b[0m \u001b[32m━━━━━━━━━━━━━━━━━━━━\u001b[0m\u001b[37m\u001b[0m \u001b[1m203s\u001b[0m 2s/step - AUC: 0.4928 - accuracy: 0.4940 - loss: 0.8464 - precision: 0.4958 - recall: 0.4778 - val_AUC: 0.5185 - val_accuracy: 0.5250 - val_loss: 0.6959 - val_precision: 0.3560 - val_recall: 0.4351 - learning_rate: 1.0000e-04\n",
      "Epoch 4/50\n",
      "\u001b[1m84/84\u001b[0m \u001b[32m━━━━━━━━━━━━━━━━━━━━\u001b[0m\u001b[37m\u001b[0m \u001b[1m236s\u001b[0m 3s/step - AUC: 0.5082 - accuracy: 0.4964 - loss: 0.8175 - precision: 0.5035 - recall: 0.4956 - val_AUC: 0.5176 - val_accuracy: 0.5536 - val_loss: 0.6904 - val_precision: 0.3536 - val_recall: 0.3271 - learning_rate: 1.0000e-04\n",
      "Epoch 5/50\n",
      "\u001b[1m84/84\u001b[0m \u001b[32m━━━━━━━━━━━━━━━━━━━━\u001b[0m\u001b[37m\u001b[0m \u001b[1m0s\u001b[0m 3s/step - AUC: 0.5017 - accuracy: 0.5098 - loss: 0.8250 - precision: 0.4985 - recall: 0.4883\n",
      "Epoch 5: ReduceLROnPlateau reducing learning rate to 4.999999873689376e-05.\n",
      "\u001b[1m84/84\u001b[0m \u001b[32m━━━━━━━━━━━━━━━━━━━━\u001b[0m\u001b[37m\u001b[0m \u001b[1m328s\u001b[0m 4s/step - AUC: 0.5017 - accuracy: 0.5098 - loss: 0.8251 - precision: 0.4986 - recall: 0.4885 - val_AUC: 0.5186 - val_accuracy: 0.4437 - val_loss: 0.7066 - val_precision: 0.3592 - val_recall: 0.7449 - learning_rate: 1.0000e-04\n",
      "Epoch 6/50\n",
      "\u001b[1m84/84\u001b[0m \u001b[32m━━━━━━━━━━━━━━━━━━━━\u001b[0m\u001b[37m\u001b[0m \u001b[1m377s\u001b[0m 5s/step - AUC: 0.4887 - accuracy: 0.4924 - loss: 0.8362 - precision: 0.4868 - recall: 0.5025 - val_AUC: 0.5193 - val_accuracy: 0.5250 - val_loss: 0.6964 - val_precision: 0.3606 - val_recall: 0.4554 - learning_rate: 5.0000e-05\n",
      "Epoch 7/50\n",
      "\u001b[1m84/84\u001b[0m \u001b[32m━━━━━━━━━━━━━━━━━━━━\u001b[0m\u001b[37m\u001b[0m \u001b[1m387s\u001b[0m 5s/step - AUC: 0.4911 - accuracy: 0.4894 - loss: 0.8335 - precision: 0.4875 - recall: 0.4817 - val_AUC: 0.5195 - val_accuracy: 0.3859 - val_loss: 0.7161 - val_precision: 0.3582 - val_recall: 0.9452 - learning_rate: 5.0000e-05\n",
      "Epoch 8/50\n",
      "\u001b[1m84/84\u001b[0m \u001b[32m━━━━━━━━━━━━━━━━━━━━\u001b[0m\u001b[37m\u001b[0m \u001b[1m0s\u001b[0m 4s/step - AUC: 0.5113 - accuracy: 0.5163 - loss: 0.8161 - precision: 0.5147 - recall: 0.5418\n",
      "Epoch 8: ReduceLROnPlateau reducing learning rate to 2.499999936844688e-05.\n",
      "\u001b[1m84/84\u001b[0m \u001b[32m━━━━━━━━━━━━━━━━━━━━\u001b[0m\u001b[37m\u001b[0m \u001b[1m406s\u001b[0m 5s/step - AUC: 0.5112 - accuracy: 0.5161 - loss: 0.8161 - precision: 0.5146 - recall: 0.5416 - val_AUC: 0.5183 - val_accuracy: 0.5580 - val_loss: 0.6887 - val_precision: 0.3497 - val_recall: 0.3005 - learning_rate: 5.0000e-05\n",
      "Epoch 9/50\n",
      "\u001b[1m84/84\u001b[0m \u001b[32m━━━━━━━━━━━━━━━━━━━━\u001b[0m\u001b[37m\u001b[0m \u001b[1m351s\u001b[0m 4s/step - AUC: 0.4926 - accuracy: 0.4895 - loss: 0.8231 - precision: 0.4817 - recall: 0.4438 - val_AUC: 0.5197 - val_accuracy: 0.4915 - val_loss: 0.6999 - val_precision: 0.3535 - val_recall: 0.5399 - learning_rate: 2.5000e-05\n",
      "Epoch 10/50\n",
      "\u001b[1m84/84\u001b[0m \u001b[32m━━━━━━━━━━━━━━━━━━━━\u001b[0m\u001b[37m\u001b[0m \u001b[1m347s\u001b[0m 4s/step - AUC: 0.5026 - accuracy: 0.5041 - loss: 0.8205 - precision: 0.5081 - recall: 0.5078 - val_AUC: 0.5190 - val_accuracy: 0.4970 - val_loss: 0.6993 - val_precision: 0.3547 - val_recall: 0.5274 - learning_rate: 2.5000e-05\n",
      "Epoch 11/50\n",
      "\u001b[1m84/84\u001b[0m \u001b[32m━━━━━━━━━━━━━━━━━━━━\u001b[0m\u001b[37m\u001b[0m \u001b[1m0s\u001b[0m 3s/step - AUC: 0.5096 - accuracy: 0.5145 - loss: 0.8127 - precision: 0.5264 - recall: 0.5096\n",
      "Epoch 11: ReduceLROnPlateau reducing learning rate to 1.249999968422344e-05.\n",
      "\u001b[1m84/84\u001b[0m \u001b[32m━━━━━━━━━━━━━━━━━━━━\u001b[0m\u001b[37m\u001b[0m \u001b[1m298s\u001b[0m 4s/step - AUC: 0.5094 - accuracy: 0.5144 - loss: 0.8129 - precision: 0.5262 - recall: 0.5095 - val_AUC: 0.5193 - val_accuracy: 0.5146 - val_loss: 0.6972 - val_precision: 0.3565 - val_recall: 0.4742 - learning_rate: 2.5000e-05\n",
      "Epoch 12/50\n",
      "\u001b[1m84/84\u001b[0m \u001b[32m━━━━━━━━━━━━━━━━━━━━\u001b[0m\u001b[37m\u001b[0m \u001b[1m291s\u001b[0m 3s/step - AUC: 0.5011 - accuracy: 0.5030 - loss: 0.8218 - precision: 0.4956 - recall: 0.4960 - val_AUC: 0.5201 - val_accuracy: 0.4678 - val_loss: 0.7040 - val_precision: 0.3651 - val_recall: 0.6964 - learning_rate: 1.2500e-05\n",
      "Epoch 12: early stopping\n",
      "Restoring model weights from the end of the best epoch: 2.\n",
      "\u001b[1m48/48\u001b[0m \u001b[32m━━━━━━━━━━━━━━━━━━━━\u001b[0m\u001b[37m\u001b[0m \u001b[1m46s\u001b[0m 963ms/step\n",
      "\n",
      "Final Test Set Evaluation:\n",
      "==================================================\n",
      "                            precision    recall  f1-score   support\n",
      "\n",
      "Non-Cancer (Benign+Normal)       0.66      0.81      0.73       968\n",
      "                    Cancer       0.44      0.25      0.32       552\n",
      "\n",
      "                  accuracy                           0.61      1520\n",
      "                 macro avg       0.55      0.53      0.52      1520\n",
      "              weighted avg       0.58      0.61      0.58      1520\n",
      "\n",
      "\n",
      "Confusion Matrix:\n"
     ]
    },
    {
     "data": {
      "image/png": "[encoded data removed]",
      "text/plain": [
       "<Figure size 640x480 with 2 Axes>"
      ]
     },
     "metadata": {},
     "output_type": "display_data"
    },
    {
     "name": "stdout",
     "output_type": "stream",
     "text": [
      "\n",
      "Medical Performance Metrics:\n",
      "Sensitivity (Cancer Detection Rate): 0.254\n",
      "Specificity (Non-Cancer Detection Rate): 0.814\n",
      "Positive Predictive Value (PPV): 0.438\n",
      "Negative Predictive Value (NPV): 0.657\n"
     ]
    }
   ],
   "source": [
    "model, history, X_train, y_train, X_val, y_val, X_test, y_test = train_mammography_classifier(\n",
    "    combined_train_df,\n",
    "    combined_val_df,\n",
    "    combined_test_df,\n",
    "    preprocess_image_func=preproc.preprocess_image,\n",
    "    epochs=50,\n",
    "    use_callbacks=True,\n",
    "    use_data_augmentation=False\n",
    ")\n",
    "\n",
    "evaluate_final_model(model, X_test, y_test)"
   ]
  },
  {
   "cell_type": "markdown",
   "id": "de2d14d0",
   "metadata": {},
   "source": [
    "## Try #2 (with data augmentation)"
   ]
  },
  {
   "cell_type": "code",
   "execution_count": null,
   "id": "081b135f",
   "metadata": {},
   "outputs": [],
   "source": [
    "def train_mammography_classifier_2(X_train, y_train, X_val, y_val,\n",
    "                                 epochs=100,\n",
    "                                 use_callbacks=True,\n",
    "                                 use_data_augmentation=False):\n",
    "    \"\"\"\n",
    "    Complete binary classification training pipeline with patient-based splits\n",
    "    Args:\n",
    "        X_train (np.ndarray): Training images.\n",
    "        y_train (np.ndarray): Training labels.\n",
    "        X_val (np.ndarray): Validation images.\n",
    "        y_val (np.ndarray): Validation labels.\n",
    "        epochs (int): Number of training epochs.\n",
    "        use_callbacks (bool): Whether to use callbacks during training.\n",
    "        use_data_augmentation (bool): Whether to apply data augmentation.\n",
    "    Returns:\n",
    "        tuple: Trained model, training history\n",
    "    \"\"\"\n",
    "\n",
    "    # Create and compile model\n",
    "    input_shape = X_train.shape[1:]\n",
    "    model = create_model_vgg19(input_shape)\n",
    "\n",
    "    print(\"\\nModel Summary:\")\n",
    "    model.summary()\n",
    "\n",
    "    # Data augmentation\n",
    "    datagen = ImageDataGenerator(rotation_range=15,\n",
    "                                 width_shift_range=0.1,\n",
    "                                 height_shift_range=0.1,\n",
    "                                 shear_range=0.1,\n",
    "                                 zoom_range=0.1,\n",
    "                                 horizontal_flip=True,\n",
    "                                 fill_mode='nearest'\n",
    "                                 )\n",
    "\n",
    "    # Callbacks\n",
    "    es = EarlyStopping(\n",
    "        monitor='val_AUC',\n",
    "        patience=10,\n",
    "        verbose=1,\n",
    "        mode = 'max',\n",
    "        restore_best_weights=True\n",
    "    )\n",
    "\n",
    "    plateau = ReduceLROnPlateau(\n",
    "        monitor='val_AUC',\n",
    "        factor=0.5,\n",
    "        patience=3,\n",
    "        verbose=1,\n",
    "        mode='max',\n",
    "        min_lr=0.000001\n",
    "    )\n",
    "\n",
    "    if use_callbacks:\n",
    "        callbacks = [es, plateau]\n",
    "    else:\n",
    "        callbacks = None\n",
    "\n",
    "    # Training with 4-fold validation strategy\n",
    "    print(\"Starting training...\")\n",
    "    if use_data_augmentation:\n",
    "        train_generator = datagen.flow(X_train, y_train, batch_size=64)\n",
    "        steps_per_epoch = len(X_train) // 64\n",
    "        history = model.fit(\n",
    "            train_generator,\n",
    "            steps_per_epoch=steps_per_epoch,\n",
    "            validation_data=(X_val, y_val),\n",
    "            epochs=epochs,\n",
    "            callbacks=callbacks,\n",
    "            verbose=1\n",
    "        )\n",
    "    else:\n",
    "        history = model.fit(\n",
    "            X_train, y_train,\n",
    "            batch_size=64,\n",
    "            validation_data=(X_val, y_val),\n",
    "            epochs=epochs,\n",
    "            callbacks=callbacks,\n",
    "            verbose=1\n",
    "        )\n",
    "\n",
    "    return model, history"
   ]
  },
  {
   "cell_type": "code",
   "execution_count": null,
   "id": "9622a486",
   "metadata": {},
   "outputs": [
    {
     "name": "stdout",
     "output_type": "stream",
     "text": [
      "\n",
      "Model Summary:\n"
     ]
    },
    {
     "data": {
      "text/html": [
       "<pre style=\"white-space:pre;overflow-x:auto;line-height:normal;font-family:Menlo,'DejaVu Sans Mono',consolas,'Courier New',monospace\"><span style=\"font-weight: bold\">Model: \"functional_2\"</span>\n",
       "</pre>\n"
      ],
      "text/plain": [
       "\u001b[1mModel: \"functional_2\"\u001b[0m\n"
      ]
     },
     "metadata": {},
     "output_type": "display_data"
    },
    {
     "data": {
      "text/html": [
       "<pre style=\"white-space:pre;overflow-x:auto;line-height:normal;font-family:Menlo,'DejaVu Sans Mono',consolas,'Courier New',monospace\">┏━━━━━━━━━━━━━━━━━━━━━━━━━━━━━━━━━┳━━━━━━━━━━━━━━━━━━━━━━━━┳━━━━━━━━━━━━━━━┓\n",
       "┃<span style=\"font-weight: bold\"> Layer (type)                    </span>┃<span style=\"font-weight: bold\"> Output Shape           </span>┃<span style=\"font-weight: bold\">       Param # </span>┃\n",
       "┡━━━━━━━━━━━━━━━━━━━━━━━━━━━━━━━━━╇━━━━━━━━━━━━━━━━━━━━━━━━╇━━━━━━━━━━━━━━━┩\n",
       "│ input_layer_2 (<span style=\"color: #0087ff; text-decoration-color: #0087ff\">InputLayer</span>)      │ (<span style=\"color: #00d7ff; text-decoration-color: #00d7ff\">None</span>, <span style=\"color: #00af00; text-decoration-color: #00af00\">224</span>, <span style=\"color: #00af00; text-decoration-color: #00af00\">224</span>, <span style=\"color: #00af00; text-decoration-color: #00af00\">3</span>)    │             <span style=\"color: #00af00; text-decoration-color: #00af00\">0</span> │\n",
       "├─────────────────────────────────┼────────────────────────┼───────────────┤\n",
       "│ vgg19 (<span style=\"color: #0087ff; text-decoration-color: #0087ff\">Functional</span>)              │ (<span style=\"color: #00d7ff; text-decoration-color: #00d7ff\">None</span>, <span style=\"color: #00af00; text-decoration-color: #00af00\">7</span>, <span style=\"color: #00af00; text-decoration-color: #00af00\">7</span>, <span style=\"color: #00af00; text-decoration-color: #00af00\">512</span>)      │    <span style=\"color: #00af00; text-decoration-color: #00af00\">20,024,384</span> │\n",
       "├─────────────────────────────────┼────────────────────────┼───────────────┤\n",
       "│ global_average_pooling2d_2      │ (<span style=\"color: #00d7ff; text-decoration-color: #00d7ff\">None</span>, <span style=\"color: #00af00; text-decoration-color: #00af00\">512</span>)            │             <span style=\"color: #00af00; text-decoration-color: #00af00\">0</span> │\n",
       "│ (<span style=\"color: #0087ff; text-decoration-color: #0087ff\">GlobalAveragePooling2D</span>)        │                        │               │\n",
       "├─────────────────────────────────┼────────────────────────┼───────────────┤\n",
       "│ dense_6 (<span style=\"color: #0087ff; text-decoration-color: #0087ff\">Dense</span>)                 │ (<span style=\"color: #00d7ff; text-decoration-color: #00d7ff\">None</span>, <span style=\"color: #00af00; text-decoration-color: #00af00\">256</span>)            │       <span style=\"color: #00af00; text-decoration-color: #00af00\">131,328</span> │\n",
       "├─────────────────────────────────┼────────────────────────┼───────────────┤\n",
       "│ dropout_4 (<span style=\"color: #0087ff; text-decoration-color: #0087ff\">Dropout</span>)             │ (<span style=\"color: #00d7ff; text-decoration-color: #00d7ff\">None</span>, <span style=\"color: #00af00; text-decoration-color: #00af00\">256</span>)            │             <span style=\"color: #00af00; text-decoration-color: #00af00\">0</span> │\n",
       "├─────────────────────────────────┼────────────────────────┼───────────────┤\n",
       "│ dense_7 (<span style=\"color: #0087ff; text-decoration-color: #0087ff\">Dense</span>)                 │ (<span style=\"color: #00d7ff; text-decoration-color: #00d7ff\">None</span>, <span style=\"color: #00af00; text-decoration-color: #00af00\">128</span>)            │        <span style=\"color: #00af00; text-decoration-color: #00af00\">32,896</span> │\n",
       "├─────────────────────────────────┼────────────────────────┼───────────────┤\n",
       "│ dropout_5 (<span style=\"color: #0087ff; text-decoration-color: #0087ff\">Dropout</span>)             │ (<span style=\"color: #00d7ff; text-decoration-color: #00d7ff\">None</span>, <span style=\"color: #00af00; text-decoration-color: #00af00\">128</span>)            │             <span style=\"color: #00af00; text-decoration-color: #00af00\">0</span> │\n",
       "├─────────────────────────────────┼────────────────────────┼───────────────┤\n",
       "│ dense_8 (<span style=\"color: #0087ff; text-decoration-color: #0087ff\">Dense</span>)                 │ (<span style=\"color: #00d7ff; text-decoration-color: #00d7ff\">None</span>, <span style=\"color: #00af00; text-decoration-color: #00af00\">1</span>)              │           <span style=\"color: #00af00; text-decoration-color: #00af00\">129</span> │\n",
       "└─────────────────────────────────┴────────────────────────┴───────────────┘\n",
       "</pre>\n"
      ],
      "text/plain": [
       "┏━━━━━━━━━━━━━━━━━━━━━━━━━━━━━━━━━┳━━━━━━━━━━━━━━━━━━━━━━━━┳━━━━━━━━━━━━━━━┓\n",
       "┃\u001b[1m \u001b[0m\u001b[1mLayer (type)                   \u001b[0m\u001b[1m \u001b[0m┃\u001b[1m \u001b[0m\u001b[1mOutput Shape          \u001b[0m\u001b[1m \u001b[0m┃\u001b[1m \u001b[0m\u001b[1m      Param #\u001b[0m\u001b[1m \u001b[0m┃\n",
       "┡━━━━━━━━━━━━━━━━━━━━━━━━━━━━━━━━━╇━━━━━━━━━━━━━━━━━━━━━━━━╇━━━━━━━━━━━━━━━┩\n",
       "│ input_layer_2 (\u001b[38;5;33mInputLayer\u001b[0m)      │ (\u001b[38;5;45mNone\u001b[0m, \u001b[38;5;34m224\u001b[0m, \u001b[38;5;34m224\u001b[0m, \u001b[38;5;34m3\u001b[0m)    │             \u001b[38;5;34m0\u001b[0m │\n",
       "├─────────────────────────────────┼────────────────────────┼───────────────┤\n",
       "│ vgg19 (\u001b[38;5;33mFunctional\u001b[0m)              │ (\u001b[38;5;45mNone\u001b[0m, \u001b[38;5;34m7\u001b[0m, \u001b[38;5;34m7\u001b[0m, \u001b[38;5;34m512\u001b[0m)      │    \u001b[38;5;34m20,024,384\u001b[0m │\n",
       "├─────────────────────────────────┼────────────────────────┼───────────────┤\n",
       "│ global_average_pooling2d_2      │ (\u001b[38;5;45mNone\u001b[0m, \u001b[38;5;34m512\u001b[0m)            │             \u001b[38;5;34m0\u001b[0m │\n",
       "│ (\u001b[38;5;33mGlobalAveragePooling2D\u001b[0m)        │                        │               │\n",
       "├─────────────────────────────────┼────────────────────────┼───────────────┤\n",
       "│ dense_6 (\u001b[38;5;33mDense\u001b[0m)                 │ (\u001b[38;5;45mNone\u001b[0m, \u001b[38;5;34m256\u001b[0m)            │       \u001b[38;5;34m131,328\u001b[0m │\n",
       "├─────────────────────────────────┼────────────────────────┼───────────────┤\n",
       "│ dropout_4 (\u001b[38;5;33mDropout\u001b[0m)             │ (\u001b[38;5;45mNone\u001b[0m, \u001b[38;5;34m256\u001b[0m)            │             \u001b[38;5;34m0\u001b[0m │\n",
       "├─────────────────────────────────┼────────────────────────┼───────────────┤\n",
       "│ dense_7 (\u001b[38;5;33mDense\u001b[0m)                 │ (\u001b[38;5;45mNone\u001b[0m, \u001b[38;5;34m128\u001b[0m)            │        \u001b[38;5;34m32,896\u001b[0m │\n",
       "├─────────────────────────────────┼────────────────────────┼───────────────┤\n",
       "│ dropout_5 (\u001b[38;5;33mDropout\u001b[0m)             │ (\u001b[38;5;45mNone\u001b[0m, \u001b[38;5;34m128\u001b[0m)            │             \u001b[38;5;34m0\u001b[0m │\n",
       "├─────────────────────────────────┼────────────────────────┼───────────────┤\n",
       "│ dense_8 (\u001b[38;5;33mDense\u001b[0m)                 │ (\u001b[38;5;45mNone\u001b[0m, \u001b[38;5;34m1\u001b[0m)              │           \u001b[38;5;34m129\u001b[0m │\n",
       "└─────────────────────────────────┴────────────────────────┴───────────────┘\n"
      ]
     },
     "metadata": {},
     "output_type": "display_data"
    },
    {
     "data": {
      "text/html": [
       "<pre style=\"white-space:pre;overflow-x:auto;line-height:normal;font-family:Menlo,'DejaVu Sans Mono',consolas,'Courier New',monospace\"><span style=\"font-weight: bold\"> Total params: </span><span style=\"color: #00af00; text-decoration-color: #00af00\">20,188,737</span> (77.01 MB)\n",
       "</pre>\n"
      ],
      "text/plain": [
       "\u001b[1m Total params: \u001b[0m\u001b[38;5;34m20,188,737\u001b[0m (77.01 MB)\n"
      ]
     },
     "metadata": {},
     "output_type": "display_data"
    },
    {
     "data": {
      "text/html": [
       "<pre style=\"white-space:pre;overflow-x:auto;line-height:normal;font-family:Menlo,'DejaVu Sans Mono',consolas,'Courier New',monospace\"><span style=\"font-weight: bold\"> Trainable params: </span><span style=\"color: #00af00; text-decoration-color: #00af00\">164,353</span> (642.00 KB)\n",
       "</pre>\n"
      ],
      "text/plain": [
       "\u001b[1m Trainable params: \u001b[0m\u001b[38;5;34m164,353\u001b[0m (642.00 KB)\n"
      ]
     },
     "metadata": {},
     "output_type": "display_data"
    },
    {
     "data": {
      "text/html": [
       "<pre style=\"white-space:pre;overflow-x:auto;line-height:normal;font-family:Menlo,'DejaVu Sans Mono',consolas,'Courier New',monospace\"><span style=\"font-weight: bold\"> Non-trainable params: </span><span style=\"color: #00af00; text-decoration-color: #00af00\">20,024,384</span> (76.39 MB)\n",
       "</pre>\n"
      ],
      "text/plain": [
       "\u001b[1m Non-trainable params: \u001b[0m\u001b[38;5;34m20,024,384\u001b[0m (76.39 MB)\n"
      ]
     },
     "metadata": {},
     "output_type": "display_data"
    },
    {
     "name": "stdout",
     "output_type": "stream",
     "text": [
      "Starting training...\n",
      "Epoch 1/50\n",
      "\u001b[1m84/84\u001b[0m \u001b[32m━━━━━━━━━━━━━━━━━━━━\u001b[0m\u001b[37m\u001b[0m \u001b[1m205s\u001b[0m 2s/step - AUC: 0.4975 - accuracy: 0.4908 - loss: 0.9455 - precision: 0.4930 - recall: 0.5352 - val_AUC: 0.4686 - val_accuracy: 0.3513 - val_loss: 0.7530 - val_precision: 0.3513 - val_recall: 1.0000 - learning_rate: 1.0000e-04\n",
      "Epoch 2/50\n",
      "\u001b[1m84/84\u001b[0m \u001b[32m━━━━━━━━━━━━━━━━━━━━\u001b[0m\u001b[37m\u001b[0m \u001b[1m320s\u001b[0m 4s/step - AUC: 0.4987 - accuracy: 0.4954 - loss: 0.9060 - precision: 0.4952 - recall: 0.4920 - val_AUC: 0.4695 - val_accuracy: 0.3480 - val_loss: 0.7319 - val_precision: 0.3488 - val_recall: 0.9875 - learning_rate: 1.0000e-04\n",
      "Epoch 3/50\n",
      "\u001b[1m84/84\u001b[0m \u001b[32m━━━━━━━━━━━━━━━━━━━━\u001b[0m\u001b[37m\u001b[0m \u001b[1m360s\u001b[0m 4s/step - AUC: 0.4894 - accuracy: 0.4911 - loss: 0.8945 - precision: 0.4927 - recall: 0.4965 - val_AUC: 0.4750 - val_accuracy: 0.3513 - val_loss: 0.7779 - val_precision: 0.3513 - val_recall: 1.0000 - learning_rate: 1.0000e-04\n",
      "Epoch 4/50\n",
      "\u001b[1m84/84\u001b[0m \u001b[32m━━━━━━━━━━━━━━━━━━━━\u001b[0m\u001b[37m\u001b[0m \u001b[1m408s\u001b[0m 5s/step - AUC: 0.5099 - accuracy: 0.4989 - loss: 0.8671 - precision: 0.4942 - recall: 0.5238 - val_AUC: 0.4794 - val_accuracy: 0.3513 - val_loss: 0.7344 - val_precision: 0.3513 - val_recall: 1.0000 - learning_rate: 1.0000e-04\n",
      "Epoch 5/50\n",
      "\u001b[1m84/84\u001b[0m \u001b[32m━━━━━━━━━━━━━━━━━━━━\u001b[0m\u001b[37m\u001b[0m \u001b[1m399s\u001b[0m 5s/step - AUC: 0.5258 - accuracy: 0.5113 - loss: 0.8284 - precision: 0.5009 - recall: 0.4937 - val_AUC: 0.4820 - val_accuracy: 0.3513 - val_loss: 0.7488 - val_precision: 0.3513 - val_recall: 1.0000 - learning_rate: 1.0000e-04\n",
      "Epoch 6/50\n",
      "\u001b[1m84/84\u001b[0m \u001b[32m━━━━━━━━━━━━━━━━━━━━\u001b[0m\u001b[37m\u001b[0m \u001b[1m381s\u001b[0m 5s/step - AUC: 0.5019 - accuracy: 0.5001 - loss: 0.8517 - precision: 0.5068 - recall: 0.5348 - val_AUC: 0.4801 - val_accuracy: 0.4568 - val_loss: 0.7028 - val_precision: 0.3307 - val_recall: 0.5336 - learning_rate: 1.0000e-04\n",
      "Epoch 7/50\n",
      "\u001b[1m84/84\u001b[0m \u001b[32m━━━━━━━━━━━━━━━━━━━━\u001b[0m\u001b[37m\u001b[0m \u001b[1m396s\u001b[0m 5s/step - AUC: 0.4911 - accuracy: 0.4960 - loss: 0.8612 - precision: 0.4864 - recall: 0.4622 - val_AUC: 0.4860 - val_accuracy: 0.3513 - val_loss: 0.7752 - val_precision: 0.3513 - val_recall: 1.0000 - learning_rate: 1.0000e-04\n",
      "Epoch 8/50\n",
      "\u001b[1m84/84\u001b[0m \u001b[32m━━━━━━━━━━━━━━━━━━━━\u001b[0m\u001b[37m\u001b[0m \u001b[1m366s\u001b[0m 4s/step - AUC: 0.4904 - accuracy: 0.4883 - loss: 0.8646 - precision: 0.4772 - recall: 0.5111 - val_AUC: 0.4883 - val_accuracy: 0.3513 - val_loss: 0.8100 - val_precision: 0.3513 - val_recall: 1.0000 - learning_rate: 1.0000e-04\n",
      "Epoch 9/50\n",
      "\u001b[1m84/84\u001b[0m \u001b[32m━━━━━━━━━━━━━━━━━━━━\u001b[0m\u001b[37m\u001b[0m \u001b[1m382s\u001b[0m 5s/step - AUC: 0.5131 - accuracy: 0.5057 - loss: 0.8425 - precision: 0.4959 - recall: 0.5190 - val_AUC: 0.4894 - val_accuracy: 0.3513 - val_loss: 0.7306 - val_precision: 0.3513 - val_recall: 1.0000 - learning_rate: 1.0000e-04\n",
      "Epoch 10/50\n",
      "\u001b[1m84/84\u001b[0m \u001b[32m━━━━━━━━━━━━━━━━━━━━\u001b[0m\u001b[37m\u001b[0m \u001b[1m325s\u001b[0m 4s/step - AUC: 0.4978 - accuracy: 0.5031 - loss: 0.8489 - precision: 0.4947 - recall: 0.4909 - val_AUC: 0.4898 - val_accuracy: 0.3513 - val_loss: 0.7652 - val_precision: 0.3513 - val_recall: 1.0000 - learning_rate: 1.0000e-04\n",
      "Epoch 11/50\n",
      "\u001b[1m84/84\u001b[0m \u001b[32m━━━━━━━━━━━━━━━━━━━━\u001b[0m\u001b[37m\u001b[0m \u001b[1m340s\u001b[0m 4s/step - AUC: 0.4913 - accuracy: 0.4911 - loss: 0.8436 - precision: 0.4942 - recall: 0.5059 - val_AUC: 0.4875 - val_accuracy: 0.3491 - val_loss: 0.7272 - val_precision: 0.3497 - val_recall: 0.9922 - learning_rate: 1.0000e-04\n",
      "Epoch 12/50\n",
      "\u001b[1m84/84\u001b[0m \u001b[32m━━━━━━━━━━━━━━━━━━━━\u001b[0m\u001b[37m\u001b[0m \u001b[1m309s\u001b[0m 4s/step - AUC: 0.4994 - accuracy: 0.5009 - loss: 0.8543 - precision: 0.4928 - recall: 0.4927 - val_AUC: 0.4914 - val_accuracy: 0.3513 - val_loss: 0.7544 - val_precision: 0.3513 - val_recall: 1.0000 - learning_rate: 1.0000e-04\n",
      "Epoch 13/50\n",
      "\u001b[1m84/84\u001b[0m \u001b[32m━━━━━━━━━━━━━━━━━━━━\u001b[0m\u001b[37m\u001b[0m \u001b[1m360s\u001b[0m 4s/step - AUC: 0.5006 - accuracy: 0.5011 - loss: 0.8370 - precision: 0.4913 - recall: 0.4971 - val_AUC: 0.4911 - val_accuracy: 0.3513 - val_loss: 0.7565 - val_precision: 0.3513 - val_recall: 1.0000 - learning_rate: 1.0000e-04\n",
      "Epoch 14/50\n",
      "\u001b[1m84/84\u001b[0m \u001b[32m━━━━━━━━━━━━━━━━━━━━\u001b[0m\u001b[37m\u001b[0m \u001b[1m257s\u001b[0m 3s/step - AUC: 0.5076 - accuracy: 0.5033 - loss: 0.8245 - precision: 0.5040 - recall: 0.5047 - val_AUC: 0.4928 - val_accuracy: 0.3513 - val_loss: 0.7416 - val_precision: 0.3513 - val_recall: 1.0000 - learning_rate: 1.0000e-04\n",
      "Epoch 15/50\n",
      "\u001b[1m84/84\u001b[0m \u001b[32m━━━━━━━━━━━━━━━━━━━━\u001b[0m\u001b[37m\u001b[0m \u001b[1m144s\u001b[0m 2s/step - AUC: 0.5000 - accuracy: 0.4952 - loss: 0.8209 - precision: 0.4908 - recall: 0.5042 - val_AUC: 0.4935 - val_accuracy: 0.3513 - val_loss: 0.7471 - val_precision: 0.3513 - val_recall: 1.0000 - learning_rate: 1.0000e-04\n",
      "Epoch 16/50\n",
      "\u001b[1m84/84\u001b[0m \u001b[32m━━━━━━━━━━━━━━━━━━━━\u001b[0m\u001b[37m\u001b[0m \u001b[1m1630s\u001b[0m 20s/step - AUC: 0.4964 - accuracy: 0.4949 - loss: 0.8346 - precision: 0.4920 - recall: 0.5020 - val_AUC: 0.4960 - val_accuracy: 0.4162 - val_loss: 0.7074 - val_precision: 0.3572 - val_recall: 0.8279 - learning_rate: 1.0000e-04\n",
      "Epoch 17/50\n",
      "\u001b[1m84/84\u001b[0m \u001b[32m━━━━━━━━━━━━━━━━━━━━\u001b[0m\u001b[37m\u001b[0m \u001b[1m124s\u001b[0m 1s/step - AUC: 0.4947 - accuracy: 0.4968 - loss: 0.8286 - precision: 0.4966 - recall: 0.4698 - val_AUC: 0.4966 - val_accuracy: 0.3513 - val_loss: 0.7472 - val_precision: 0.3513 - val_recall: 1.0000 - learning_rate: 1.0000e-04\n",
      "Epoch 18/50\n",
      "\u001b[1m84/84\u001b[0m \u001b[32m━━━━━━━━━━━━━━━━━━━━\u001b[0m\u001b[37m\u001b[0m \u001b[1m124s\u001b[0m 1s/step - AUC: 0.5056 - accuracy: 0.5018 - loss: 0.8179 - precision: 0.4968 - recall: 0.5127 - val_AUC: 0.4914 - val_accuracy: 0.3513 - val_loss: 0.7359 - val_precision: 0.3513 - val_recall: 1.0000 - learning_rate: 1.0000e-04\n",
      "Epoch 19/50\n",
      "\u001b[1m84/84\u001b[0m \u001b[32m━━━━━━━━━━━━━━━━━━━━\u001b[0m\u001b[37m\u001b[0m \u001b[1m2237s\u001b[0m 27s/step - AUC: 0.4895 - accuracy: 0.5015 - loss: 0.8295 - precision: 0.4913 - recall: 0.4798 - val_AUC: 0.4952 - val_accuracy: 0.3513 - val_loss: 0.7423 - val_precision: 0.3513 - val_recall: 1.0000 - learning_rate: 1.0000e-04\n",
      "Epoch 20/50\n",
      "\u001b[1m84/84\u001b[0m \u001b[32m━━━━━━━━━━━━━━━━━━━━\u001b[0m\u001b[37m\u001b[0m \u001b[1m0s\u001b[0m 1s/step - AUC: 0.4892 - accuracy: 0.4911 - loss: 0.8260 - precision: 0.4915 - recall: 0.5117\n",
      "Epoch 20: ReduceLROnPlateau reducing learning rate to 4.999999873689376e-05.\n",
      "\u001b[1m84/84\u001b[0m \u001b[32m━━━━━━━━━━━━━━━━━━━━\u001b[0m\u001b[37m\u001b[0m \u001b[1m123s\u001b[0m 1s/step - AUC: 0.4892 - accuracy: 0.4911 - loss: 0.8261 - precision: 0.4915 - recall: 0.5116 - val_AUC: 0.4955 - val_accuracy: 0.4349 - val_loss: 0.7035 - val_precision: 0.3565 - val_recall: 0.7559 - learning_rate: 1.0000e-04\n",
      "Epoch 21/50\n",
      "\u001b[1m84/84\u001b[0m \u001b[32m━━━━━━━━━━━━━━━━━━━━\u001b[0m\u001b[37m\u001b[0m \u001b[1m123s\u001b[0m 1s/step - AUC: 0.4957 - accuracy: 0.5006 - loss: 0.8152 - precision: 0.5003 - recall: 0.4684 - val_AUC: 0.4942 - val_accuracy: 0.3513 - val_loss: 0.7300 - val_precision: 0.3513 - val_recall: 1.0000 - learning_rate: 5.0000e-05\n",
      "Epoch 22/50\n",
      "\u001b[1m84/84\u001b[0m \u001b[32m━━━━━━━━━━━━━━━━━━━━\u001b[0m\u001b[37m\u001b[0m \u001b[1m995s\u001b[0m 12s/step - AUC: 0.5084 - accuracy: 0.5043 - loss: 0.8034 - precision: 0.5003 - recall: 0.4915 - val_AUC: 0.4980 - val_accuracy: 0.3513 - val_loss: 0.7360 - val_precision: 0.3513 - val_recall: 1.0000 - learning_rate: 5.0000e-05\n",
      "Epoch 23/50\n",
      "\u001b[1m84/84\u001b[0m \u001b[32m━━━━━━━━━━━━━━━━━━━━\u001b[0m\u001b[37m\u001b[0m \u001b[1m122s\u001b[0m 1s/step - AUC: 0.4999 - accuracy: 0.5090 - loss: 0.8121 - precision: 0.5230 - recall: 0.5289 - val_AUC: 0.4946 - val_accuracy: 0.3650 - val_loss: 0.7126 - val_precision: 0.3519 - val_recall: 0.9593 - learning_rate: 5.0000e-05\n",
      "Epoch 24/50\n",
      "\u001b[1m84/84\u001b[0m \u001b[32m━━━━━━━━━━━━━━━━━━━━\u001b[0m\u001b[37m\u001b[0m \u001b[1m123s\u001b[0m 1s/step - AUC: 0.5017 - accuracy: 0.5036 - loss: 0.8094 - precision: 0.4990 - recall: 0.4746 - val_AUC: 0.4964 - val_accuracy: 0.3513 - val_loss: 0.7367 - val_precision: 0.3513 - val_recall: 1.0000 - learning_rate: 5.0000e-05\n",
      "Epoch 25/50\n",
      "\u001b[1m84/84\u001b[0m \u001b[32m━━━━━━━━━━━━━━━━━━━━\u001b[0m\u001b[37m\u001b[0m \u001b[1m0s\u001b[0m 1s/step - AUC: 0.5134 - accuracy: 0.5040 - loss: 0.8036 - precision: 0.5049 - recall: 0.5080\n",
      "Epoch 25: ReduceLROnPlateau reducing learning rate to 2.499999936844688e-05.\n",
      "\u001b[1m84/84\u001b[0m \u001b[32m━━━━━━━━━━━━━━━━━━━━\u001b[0m\u001b[37m\u001b[0m \u001b[1m127s\u001b[0m 2s/step - AUC: 0.5133 - accuracy: 0.5039 - loss: 0.8037 - precision: 0.5048 - recall: 0.5079 - val_AUC: 0.4965 - val_accuracy: 0.3513 - val_loss: 0.7466 - val_precision: 0.3513 - val_recall: 1.0000 - learning_rate: 5.0000e-05\n",
      "Epoch 26/50\n",
      "\u001b[1m84/84\u001b[0m \u001b[32m━━━━━━━━━━━━━━━━━━━━\u001b[0m\u001b[37m\u001b[0m \u001b[1m182s\u001b[0m 2s/step - AUC: 0.5034 - accuracy: 0.5032 - loss: 0.8092 - precision: 0.5100 - recall: 0.5245 - val_AUC: 0.4981 - val_accuracy: 0.3513 - val_loss: 0.7310 - val_precision: 0.3513 - val_recall: 1.0000 - learning_rate: 2.5000e-05\n",
      "Epoch 27/50\n",
      "\u001b[1m73/84\u001b[0m \u001b[32m━━━━━━━━━━━━━━━━━\u001b[0m\u001b[37m━━━\u001b[0m \u001b[1m39s\u001b[0m 4s/step - AUC: 0.4981 - accuracy: 0.4962 - loss: 0.8106 - precision: 0.4920 - recall: 0.4970"
     ]
    }
   ],
   "source": [
    "model_2, history_2 = train_mammography_classifier_2(\n",
    "    X_train, y_train,\n",
    "    X_val, y_val,\n",
    "    epochs=50,\n",
    "    use_callbacks=True,\n",
    "    use_data_augmentation=False\n",
    ")\n",
    "\n",
    "evaluate_final_model(model_2, X_test, y_test)"
   ]
  },
  {
   "cell_type": "code",
   "execution_count": null,
   "id": "7c60f726",
   "metadata": {},
   "outputs": [],
   "source": []
  },
  {
   "cell_type": "markdown",
   "id": "ae947529",
   "metadata": {},
   "source": [
    "## 4. RSNA data"
   ]
  },
  {
   "cell_type": "code",
   "execution_count": null,
   "id": "18367a54",
   "metadata": {},
   "outputs": [],
   "source": [
    "# Load data\n",
    "X_train_1 = np.load('../raw_data/RSNA_full/X_train_1.npy')\n",
    "# X_train_2 = np.load('../raw_data/RSNA_full/X_train_2.npy')\n",
    "# X_train_3 = np.load('../raw_data/RSNA_full/X_train_3.npy')\n",
    "# X_train_4 = np.load('../raw_data/RSNA_full/X_train_4.npy')\n",
    "X_val_1 = np.load('../raw_data/RSNA_full/X_val_1.npy')\n",
    "\n",
    "# X_train = np.concatenate([X_train_1, X_train_2, X_train_3], axis=0)\n",
    "X_val = X_val_1\n",
    "\n",
    "y_train_1 = np.load('../raw_data/RSNA_full/y_train_1.npy')\n",
    "# y_train_2 = np.load('../raw_data/RSNA_full/y_train_2.npy')\n",
    "# y_train_3 = np.load('../raw_data/RSNA_full/y_train_3.npy')\n",
    "# y_train_4 = np.load('../raw_data/RSNA_full/y_train_4.npy')\n",
    "y_val_1 = np.load('../raw_data/RSNA_full/y_val_1.npy')\n",
    "# y_train = np.concatenate([y_train_1, y_train_2, y_train_3], axis=0)\n",
    "y_val = y_val_1"
   ]
  },
  {
   "cell_type": "code",
   "execution_count": null,
   "id": "6f198282",
   "metadata": {},
   "outputs": [],
   "source": [
    "# Train the model\n",
    "model_3, history_3 = train_mammography_classifier_2(\n",
    "    X_train, y_train,\n",
    "    X_val, y_val,\n",
    "    epochs=50,\n",
    "    use_callbacks=True,\n",
    "    use_data_augmentation=False\n",
    ")\n",
    "\n",
    "evaluate_final_model(model_3, X_train_4, y_train_4)"
   ]
  }
 ],
 "metadata": {
  "kernelspec": {
   "display_name": "lewagon-breast-cancer-project",
   "language": "python",
   "name": "python3"
  },
  "language_info": {
   "codemirror_mode": {
    "name": "ipython",
    "version": 3
   },
   "file_extension": ".py",
   "mimetype": "text/x-python",
   "name": "python",
   "nbconvert_exporter": "python",
   "pygments_lexer": "ipython3",
   "version": "3.10.6"
  }
 },
 "nbformat": 4,
 "nbformat_minor": 5
}
